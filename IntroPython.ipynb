{
 "cells": [
  {
   "cell_type": "markdown",
   "metadata": {
    "hideCode": false,
    "hidePrompt": false
   },
   "source": [
    "# Tutorial 1 - Intro Python\n",
    "\n",
    "Python ist eine Programmiersprache, die zugleich einfach und mächtig ist und welche die Spass macht. Die ersten beiden scheinen sich zu wiedersprechen und der dritte Punkt trifft in der Regel nicht auf Programmiersprachen zu. Nach einigen Jahren programmieren kann ich alle Puntke voll und ganz bestätigen. Dieses Tutorial soll Python als wirkungsvolles Tool vermitteln und nicht eine Programmiersprache. \n",
    "\n",
    "Falls du einen allgemeinen Einstieg in Python lesen möchtest, empfiehlt sich [A Byte of Python](https://python.swaroopch.com/) von Swaroop. Dieses Buch gibt es auch [online](https://cito.github.io/byte_of_python) in deutscher Version. Zitat daraus ist\n",
    "\n",
    "***\"Erfolg im Leben ist eine Sache, die weniger mit Talent und Gelegenheit zu tun hat, als mit Konzentration und Beharrlichkeit.\"***\n",
    "\n",
    "Viel Spass!\n",
    "Markus Markstaler.\n",
    "\n",
    "# Installation \n",
    "\n",
    "Der schnellste Weg um Python zu installieren ist über die Anaconda-Plattform, welches Python mit den wichtigsten Paketen (Libaries) enthält, sowie die Entwicklungsumgebung \"Spyder\" als Editor um Script-Files zu erstellen. (Internetsuche \"anaconda python\")\n",
    "Bei der Installation beachten das \"Add Anaconda to my PATH enviroment variable\" angekreuzt wird. Somit kann über das Command-Window python.exe in jedem Verzeichnis gestartet werden. \n",
    "Die Systemumgebungsvariabel (enviroment variable) kann auch nachträglich erweitert werden um den VERZEICHNISNAMEN, wo python.exe abgelegt ist (z.B. C:\\Anaconda3) durch folgenden Befehlt im Command-Window:\n",
    "\n",
    "    path=%path%;VERZEICHNISNAMEN\n",
    "\n",
    "Bei Python gibt es grundsätzlich zwei Version: die 2.x und die 3.x. Natürlich verwenden wir die Neue Version! Die 2.x ist aber nach wie vor sehr verbreitet.\n",
    "\n",
    "**Pakete:** Zusätzliche Pakete können über das Kommando-Window (cmd) mit dem Befehl `conda install <Paketname>` installieren, wobei `<Paketname>` durch den Namen des Pakets. Anconda enthält jedoch alle, für uns notwendigen Pakete. \n",
    "\n",
    "Wichtig! Aktualisiere das System mit dem Pakte Manager `conda`. Dieser organisiert das System und installiert die aktuellsten im System kompatiblen Pakete.\n",
    "\n",
    "`conda update --all`\n",
    "\n",
    "\n",
    "# Lets start\n",
    "Nun starten wir die Entwicklungsumgebung \"Spyder\" für Python (windowstaste dann Spyder eingeben oder bei Mac nach \"Spyder\" suchen). Das müsste dann so aussehen:"
   ]
  },
  {
   "cell_type": "markdown",
   "metadata": {
    "hideCode": false,
    "hidePrompt": false
   },
   "source": [
    "![Starten von Spyder und Befehl in Konsole eingeben](Folie1.PNG)"
   ]
  },
  {
   "cell_type": "markdown",
   "metadata": {
    "hideCode": false,
    "hidePrompt": false
   },
   "source": [
    "Wie bei allem was mit Computer zu tun hat, geben wir nach dem Starten von \"Spyder\" in die Konsole (IPython console) ein Befehl ein. Die Konsole ist auch unser Python-Interpreter. Gib folgendes ein:"
   ]
  },
  {
   "cell_type": "code",
   "execution_count": 13,
   "metadata": {
    "hideCode": false,
    "hidePrompt": false
   },
   "outputs": [
    {
     "name": "stdout",
     "output_type": "stream",
     "text": [
      "Hello World!\n"
     ]
    }
   ],
   "source": [
    "print('Hello World!')"
   ]
  },
  {
   "cell_type": "markdown",
   "metadata": {
    "hideCode": false,
    "hidePrompt": false
   },
   "source": [
    "Es wird der String ausgegeben. Ein String ist gekennzeichnet durch \"doppeltes Hochkomma\" oder 'einfaches Hochkomma', was gleichbedeutend ist. Bei drei Hochkommas kann der Text über mehrere Zeilen geschrieben werden und im Text können Hochkommas verwendet werden."
   ]
  },
  {
   "cell_type": "code",
   "execution_count": 14,
   "metadata": {
    "hideCode": false,
    "hidePrompt": false
   },
   "outputs": [],
   "source": [
    "a = 12"
   ]
  },
  {
   "cell_type": "code",
   "execution_count": 15,
   "metadata": {
    "hideCode": false,
    "hidePrompt": false
   },
   "outputs": [
    {
     "name": "stdout",
     "output_type": "stream",
     "text": [
      "36.2\n"
     ]
    }
   ],
   "source": [
    "print(a * 3 + abs(-0.2))"
   ]
  },
  {
   "cell_type": "markdown",
   "metadata": {
    "hideCode": false,
    "hidePrompt": false
   },
   "source": [
    "Die Variablen können auch in einem eigenen Fenster dargestellt werden, dem \"Variable explorer\". Dieser wird wie folgt geöffnet:"
   ]
  },
  {
   "cell_type": "markdown",
   "metadata": {
    "hideCode": false,
    "hidePrompt": false
   },
   "source": [
    "![Variablen über Variable Explorer anzeigen](Folie2.PNG)"
   ]
  },
  {
   "cell_type": "markdown",
   "metadata": {
    "hideCode": false,
    "hidePrompt": false
   },
   "source": [
    "# Tutorial 1 - Übung 1: Mathematische Funktionen in Python\n",
    "Nun werden einige mathematische Funktionen vorgestellt. Zuerst die Division:"
   ]
  },
  {
   "cell_type": "code",
   "execution_count": 16,
   "metadata": {
    "hideCode": false,
    "hidePrompt": false
   },
   "outputs": [
    {
     "data": {
      "text/plain": [
       "8.75"
      ]
     },
     "execution_count": 16,
     "metadata": {},
     "output_type": "execute_result"
    }
   ],
   "source": [
    "35/4"
   ]
  },
  {
   "cell_type": "markdown",
   "metadata": {
    "hideCode": false,
    "hidePrompt": false
   },
   "source": [
    "So wird eine Ganzzahl-Division ausgeführt:"
   ]
  },
  {
   "cell_type": "code",
   "execution_count": 17,
   "metadata": {
    "hideCode": false,
    "hidePrompt": false
   },
   "outputs": [
    {
     "data": {
      "text/plain": [
       "8"
      ]
     },
     "execution_count": 17,
     "metadata": {},
     "output_type": "execute_result"
    }
   ],
   "source": [
    "35//4"
   ]
  },
  {
   "cell_type": "markdown",
   "metadata": {
    "hideCode": false,
    "hidePrompt": false
   },
   "source": [
    "Hier die Modulo-Funktion oder auch \"Rest\" genannt:"
   ]
  },
  {
   "cell_type": "code",
   "execution_count": 18,
   "metadata": {
    "hideCode": false,
    "hidePrompt": false
   },
   "outputs": [
    {
     "data": {
      "text/plain": [
       "2"
      ]
     },
     "execution_count": 18,
     "metadata": {},
     "output_type": "execute_result"
    }
   ],
   "source": [
    "35 % 3"
   ]
  },
  {
   "cell_type": "markdown",
   "metadata": {
    "hideCode": false,
    "hidePrompt": false
   },
   "source": [
    "Potenziert wird in Python mit **"
   ]
  },
  {
   "cell_type": "code",
   "execution_count": 19,
   "metadata": {
    "hideCode": false,
    "hidePrompt": false
   },
   "outputs": [
    {
     "data": {
      "text/plain": [
       "8"
      ]
     },
     "execution_count": 19,
     "metadata": {},
     "output_type": "execute_result"
    }
   ],
   "source": [
    "2**3"
   ]
  },
  {
   "cell_type": "markdown",
   "metadata": {
    "hideCode": false,
    "hidePrompt": false
   },
   "source": [
    "Im gleichen Stil kann auch so die Kubik-Wurzel geschrieben werden:"
   ]
  },
  {
   "cell_type": "code",
   "execution_count": 20,
   "metadata": {
    "hideCode": false,
    "hidePrompt": false
   },
   "outputs": [
    {
     "data": {
      "text/plain": [
       "3.0"
      ]
     },
     "execution_count": 20,
     "metadata": {},
     "output_type": "execute_result"
    }
   ],
   "source": [
    "27**(1/3)"
   ]
  },
  {
   "cell_type": "markdown",
   "metadata": {
    "hideCode": false,
    "hidePrompt": false
   },
   "source": [
    "Im Folgenden werden zwei Variablen definiert und geprüft ob sie gleich sind. Jede Zeile wird einzel eingegeben und mit Enter abgeschlossen:"
   ]
  },
  {
   "cell_type": "code",
   "execution_count": 21,
   "metadata": {
    "hideCode": false,
    "hidePrompt": false
   },
   "outputs": [
    {
     "data": {
      "text/plain": [
       "False"
      ]
     },
     "execution_count": 21,
     "metadata": {},
     "output_type": "execute_result"
    }
   ],
   "source": [
    "a = 5\n",
    "b = 6\n",
    "a == b"
   ]
  },
  {
   "cell_type": "code",
   "execution_count": 22,
   "metadata": {
    "hideCode": false,
    "hidePrompt": false
   },
   "outputs": [
    {
     "data": {
      "text/plain": [
       "True"
      ]
     },
     "execution_count": 22,
     "metadata": {},
     "output_type": "execute_result"
    }
   ],
   "source": [
    "a != b"
   ]
  },
  {
   "cell_type": "markdown",
   "metadata": {
    "hideCode": false,
    "hidePrompt": false
   },
   "source": [
    "Logik-Operatoren sind \n",
    "\n",
    "\"&\" für bitweises UND, \n",
    "\n",
    "\"|\" für bitweises ODER und \n",
    "\n",
    "\"~\" für bitweises NICHT."
   ]
  },
  {
   "cell_type": "markdown",
   "metadata": {
    "hideCode": false,
    "hidePrompt": false
   },
   "source": [
    "Energierechnungen basieren in der Regel auf Zeitreihen, z.B. Strahlungswerte über einen Tag im Intervall von 15 min.\n",
    "Python bietet hier \"Liste\". Eine Liste beginnt und endet mit eckigen Klammern []."
   ]
  },
  {
   "cell_type": "code",
   "execution_count": 23,
   "metadata": {
    "hideCode": false,
    "hidePrompt": false
   },
   "outputs": [],
   "source": [
    "H = [0, 10, 120, 230, 430, 500, 510,]"
   ]
  },
  {
   "cell_type": "markdown",
   "metadata": {
    "hideCode": false,
    "hidePrompt": false
   },
   "source": [
    "# Tutorial 1 - Übung 2: Bibliotheken importieren\n",
    "Mit Anaconda sind bereits die wichtigsten Bibliotheken installiert. Wir verwenden zum Rechnen die \"numpy\" Bibliothek. Um sie anwenden zu können, müssen wir zuerst die Bibliothek importieren. Dies erfolgt mit 'import numpy'. Numpy ist eine Bibliothek mit vielen numerischen Funktionen, wie z.B. die Absolut-Funktion abs(). Wenn die Funktion aufgerufen wird, so muss zuerst der Bibliotheksname dann Punkt und dann der Funktionsnamen angeben werden wie z.B. \"numpy.abs(-3)\". Da dies etwas lang ist, importieren wir wie folgt \"import numpy as np\", dann müssen wir später nur \"np.abs(-3)\" angeben. "
   ]
  },
  {
   "cell_type": "code",
   "execution_count": 24,
   "metadata": {
    "hideCode": false,
    "hidePrompt": false
   },
   "outputs": [],
   "source": [
    "import numpy as np"
   ]
  },
  {
   "cell_type": "markdown",
   "metadata": {
    "hideCode": false,
    "hidePrompt": false
   },
   "source": [
    "Nach Eingabe sieht man nichts auf der Konsole. Mit **dir(Bibliotheksname)** können alle Funktionen (aber auch Klassen und Variablen) der importierten Bibliothek aufgelistet werden. Die importierten Bibliotheken sind nun aktive bis Spyder wieder geschlossen wird."
   ]
  },
  {
   "cell_type": "markdown",
   "metadata": {
    "hideCode": false,
    "hidePrompt": false
   },
   "source": [
    "Liste ermöglicht auch unterschiedliche Typen wie String, Zahlen, usw.. Wir werden aber vektoriell rechnen, was ebenfalls durch numpy unterstützt wird, jeodoch müssen wir die Liste (nur mit Zahlen) in ein \"numpy-Array\" umwandeln. Dies geht so:"
   ]
  },
  {
   "cell_type": "code",
   "execution_count": 25,
   "metadata": {
    "hideCode": false,
    "hidePrompt": false
   },
   "outputs": [],
   "source": [
    "Hn = np.array(H)"
   ]
  },
  {
   "cell_type": "code",
   "execution_count": 26,
   "metadata": {
    "hideCode": false,
    "hidePrompt": false
   },
   "outputs": [
    {
     "data": {
      "text/plain": [
       "(7,)"
      ]
     },
     "execution_count": 26,
     "metadata": {},
     "output_type": "execute_result"
    }
   ],
   "source": [
    "Hn.shape"
   ]
  },
  {
   "cell_type": "markdown",
   "metadata": {
    "hideCode": false,
    "hidePrompt": false
   },
   "source": [
    "\"shape\" gibt die Form der Matrix an, d.h. Anzahl Zeilen und Anzahl Spalten. Hier haben wir einen eindimensionalen Array."
   ]
  },
  {
   "cell_type": "markdown",
   "metadata": {
    "hideCode": false,
    "hidePrompt": false
   },
   "source": [
    "### Indexierung\n",
    "Wie wir gelernt haben, wird eine Liste mit eckigen Klammern erzeugt. Werden eckige Klammern nach dem Variablennamen einer Liste oder eines Numpy-Array gesetzt, kann man auf die Elemente zugriefen. Man nennt dies \"Indexierung\", welches ein sehr mächtiges Werkzeug in Python ist.\n",
    "Die <b>Indexierung beginnt bei 0</b> nicht bei 1, d.h. das erste Element ist Hn[0] ! Im Folgeden werden Befehle eingegeben und anschliessen mit Kommentar erklärt. Der Kommentar wir mit Doppelkreuz # angegeben. Eingabe des Kommentar ist nicht erforderlich, sondern hier nur als Erklärung."
   ]
  },
  {
   "cell_type": "code",
   "execution_count": 27,
   "metadata": {
    "hideCode": false,
    "hidePrompt": false
   },
   "outputs": [
    {
     "data": {
      "text/plain": [
       "230"
      ]
     },
     "execution_count": 27,
     "metadata": {},
     "output_type": "execute_result"
    }
   ],
   "source": [
    "Hn[3] # das ist das vierte Element"
   ]
  },
  {
   "cell_type": "code",
   "execution_count": 28,
   "metadata": {
    "hideCode": false,
    "hidePrompt": false
   },
   "outputs": [
    {
     "data": {
      "text/plain": [
       "510"
      ]
     },
     "execution_count": 28,
     "metadata": {},
     "output_type": "execute_result"
    }
   ],
   "source": [
    "Hn[-1] # Das ist das letzte Element"
   ]
  },
  {
   "cell_type": "code",
   "execution_count": 29,
   "metadata": {
    "hideCode": false,
    "hidePrompt": false
   },
   "outputs": [
    {
     "data": {
      "text/plain": [
       "array([230, 430])"
      ]
     },
     "execution_count": 29,
     "metadata": {},
     "output_type": "execute_result"
    }
   ],
   "source": [
    "Hn[3:5] # Hier von Index 3 (viertes Element) bis und mit Index 4, ohne Index Fünf."
   ]
  },
  {
   "cell_type": "code",
   "execution_count": 30,
   "metadata": {
    "hideCode": false,
    "hidePrompt": false
   },
   "outputs": [
    {
     "data": {
      "text/plain": [
       "array([230, 430])"
      ]
     },
     "execution_count": 30,
     "metadata": {},
     "output_type": "execute_result"
    }
   ],
   "source": [
    "Hn[3:-2]  # auch hier wird zweitletzter Index nicht mit genommen"
   ]
  },
  {
   "cell_type": "code",
   "execution_count": 31,
   "metadata": {
    "hideCode": false,
    "hidePrompt": false
   },
   "outputs": [
    {
     "data": {
      "text/plain": [
       "array([230, 430, 500])"
      ]
     },
     "execution_count": 31,
     "metadata": {},
     "output_type": "execute_result"
    }
   ],
   "source": [
    "Hn[3:-1]  # hier wird bis zum zweitletzten Element übernommen, ohne den letzten Index"
   ]
  },
  {
   "cell_type": "code",
   "execution_count": 32,
   "metadata": {
    "hideCode": false,
    "hidePrompt": false
   },
   "outputs": [
    {
     "data": {
      "text/plain": [
       "array([230, 430, 500, 510])"
      ]
     },
     "execution_count": 32,
     "metadata": {},
     "output_type": "execute_result"
    }
   ],
   "source": [
    "Hn[3:]  # Hier wird bis und mit letztem Element übernommen"
   ]
  },
  {
   "cell_type": "markdown",
   "metadata": {
    "collapsed": true,
    "hideCode": false,
    "hidePrompt": false
   },
   "source": [
    "#  Tutorial 1 - Übung 3: Ausführbare Programme, bzw. Skript-Files\n",
    "Die Befehle können wir in ein File schreiben und als Skript laufen lassen. Das File wird mit der Endung *.py gespeichert. Den Inhalt des Files schreiben wir im linken Fenster bei \"Spyder\", genannt \"Editor\". Im Folgenden importieren wir Numpy und die Bibliothek zum Erstellen von Diagrammen \"Matplotlib\" oder genauer gesagt aus der Hauptbibliothek \"Matplotlib\" importieren wir die Bibliothek \"pyplot\", worin die Diagramm Befehle sind. Wir definieren wieder einen Array und stellen diesen als Diagramm dar. Nachdem wir das Script-File erstellt und gespeichert haben, können wir dies mit der grünen Dreiecks-Taste oben links \"laufen\" lassen, oder wir drücken die F5-Taste."
   ]
  },
  {
   "cell_type": "code",
   "execution_count": 33,
   "metadata": {
    "hideCode": false,
    "hidePrompt": false
   },
   "outputs": [
    {
     "data": {
      "image/png": "[encoded data removed]",
      "text/plain": [
       "<Figure size 432x288 with 1 Axes>"
      ]
     },
     "metadata": {
      "needs_background": "light"
     },
     "output_type": "display_data"
    }
   ],
   "source": [
    "### importieren von Bibliotheken\n",
    "import matplotlib.pyplot as plt\n",
    "import numpy as np\n",
    "\n",
    "H = [0, 10, 120, 230, 430, 500, 510, 460, 310, 190, 80, 1,]\n",
    "Hn = np.array(H)\n",
    "\n",
    "### Ausgabe\n",
    "plt.plot(Hn, 'r--', label='Strahlung')\n",
    "plt.ylabel('Strahlung [W/m2]')\n",
    "plt.title('Tagesverlauf Globalstrahlung')\n",
    "plt.show()"
   ]
  },
  {
   "cell_type": "markdown",
   "metadata": {
    "hideCode": false,
    "hidePrompt": false
   },
   "source": [
    "Das Diagramm wird mit \"plot\" generiert. Mit 'r--' wird die Linienfarbe und Linienart angegeben. Mit \"label\" wird der Name der Kennlinie angegeben, welcher nachfolgend über \"legend\" dargestellt wird. Der Befehl \"grid\" zeichnet die Hilfslinien ins Diagramm.\n",
    "\n",
    "Nun erzeugen wir einen Zeit-Array von 6 bis 19 Uhr. Der Zeitarray sollte gleich viele Elemente haben wie der Strahlungs-Array Hn. Die Länge des Strahlungs-Arry finden wir mit Hn.size heraus. Um einen Numpy-Array zu erzeugen verwenden wir die Funktion linspace(start,stop, AnzahlElemente). \n",
    "\n",
    "Du kannst das bestehende Skript-File mit den folgenden Aufgaben abändern und ausprobieren. Es ist nicht notwendig für jede Übung ein eigenes Skript-File zu erstellen und speichern."
   ]
  },
  {
   "cell_type": "code",
   "execution_count": 34,
   "metadata": {
    "hideCode": false,
    "hidePrompt": false
   },
   "outputs": [
    {
     "data": {
      "image/png": "[encoded data removed]",
      "text/plain": [
       "<Figure size 432x288 with 1 Axes>"
      ]
     },
     "metadata": {
      "needs_background": "light"
     },
     "output_type": "display_data"
    }
   ],
   "source": [
    "### importieren von Bibliotheken\n",
    "import matplotlib.pyplot as plt\n",
    "import numpy as np\n",
    "\n",
    "H = [0, 10, 120, 230, 430, 500, 510, 460, 310, 190, 80, 1,]\n",
    "Hn = np.array(H)\n",
    "tn = np.linspace(6, 19, Hn.size)\n",
    "\n",
    "### Ausgabe\n",
    "plt.plot(tn, Hn, color='#aa5500', linewidth=3, label = 'Strahlung')\n",
    "plt.xlabel('Zeit')\n",
    "plt.ylabel('Strahlung [W/m2]')\n",
    "plt.grid()\n",
    "plt.legend(loc='upper left')\n",
    "plt.show()"
   ]
  },
  {
   "cell_type": "markdown",
   "metadata": {
    "hideCode": false,
    "hidePrompt": false
   },
   "source": [
    "Die Linienfarbe kann auch als RGB-Wert in Hex angegeben werden, durch \"color = #aabbcc\". Ebenso die Stärke der Linie über \"linewidth\"."
   ]
  },
  {
   "cell_type": "markdown",
   "metadata": {
    "collapsed": true,
    "hideCode": false,
    "hidePrompt": false
   },
   "source": [
    "#  Tutorial 1 - Übung 4: Wichtige Details..."
   ]
  },
  {
   "cell_type": "code",
   "execution_count": 35,
   "metadata": {
    "hideCode": false,
    "hidePrompt": false
   },
   "outputs": [
    {
     "data": {
      "image/png": "[encoded data removed]",
      "text/plain": [
       "<Figure size 360x216 with 1 Axes>"
      ]
     },
     "metadata": {
      "needs_background": "light"
     },
     "output_type": "display_data"
    }
   ],
   "source": [
    "# -*- coding: utf-8 -*-\n",
    "\"\"\"\n",
    "Es empfiehlt sich am Anfang kurz zu beschreiben was das Skript macht...\n",
    "24.2.2017, Markstaler\n",
    "\"\"\"\n",
    "\n",
    "### importieren von Bibliotheken\n",
    "import matplotlib.pyplot as plt\n",
    "import numpy as np\n",
    "\n",
    "\n",
    "### Berechnung\n",
    "grad = np.linspace(0,360,200)  # [°]\n",
    "amp  = np.sin(grad/180*3.1415) # [1]\n",
    "\n",
    "### Ausgabe\n",
    "fig = plt.figure(1, figsize=(5,3))\n",
    "plt.plot(grad,amp, 'b-')\n",
    "plt.xlabel('Grad')\n",
    "plt.ylabel('Sinus')\n",
    "plt.title('Sinusfuntion über Grad äöüß')\n",
    "plt.grid(which='both', linestyle='--')\n",
    "plt.show()"
   ]
  },
  {
   "cell_type": "markdown",
   "metadata": {
    "hideCode": true,
    "hidePrompt": true
   },
   "source": [
    "Nun sind da einige neue Funktionalitäten. In der ersten Zeile steht \" # -*- coding: utf-8 -*- \". Bei Python können \"magische\" Kommandozeilen angegeben werden, sodass der Python-Interpreter den richtigen Zeichensatz verwendet. Standardmässig ist der ASCII-Satz vorgesehe, bei welchem die Umlaute und ß nicht enthalten sind. Dies führt zu einer Fehlermeldung (es lohnt sich dies auszuprobieren). Um die Kodierungsproblematik zu lösen, geben wir in der ersten Zeile an, dass der UTF-8-Code verwendet werden soll.\n",
    "\n",
    "Anschliessend kommt ein Kommentar über mehrere Zeilen durch drei Hochkommas zur Dokumentation, was das Skript macht. Anschliessend werden Bibliotheken importiert und eine Sinuskurve berechnet. Die Sinus-Funktion bei Numpy erfordert die Eingabe im Bogenmass (Radiant), wir verwenden jedoch das Gradmass. Deshalb die Umrechnung. \n",
    "\n",
    "Mit \"fig = plt.figure(1, figsize=(5,3))\" erzeugen wir ein Figure-Objekt mit Angabe der Grösse des Diagramms. \n",
    "\n",
    "Wenn wir das Script-File unter \"sinus.py\" abspeichern, so können wir das Programm wie folgt startet. Wir öffnen das Kommando-Window (Windowstaste+cmd) und wechseln in das Verzeichnis, wo \"sinus.py\" abgelegt ist. Wir geben in das Kommando-Window \"python sinus.py\" ein.\n",
    "\n",
    "Das Programm bleibt so lange offen, bis das Fenster wieder geschlossen wird."
   ]
  },
  {
   "cell_type": "markdown",
   "metadata": {
    "hideCode": false,
    "hidePrompt": false
   },
   "source": [
    "#  Tutorial 1 - Übung 5: Einrücken !\n",
    "Weitere wichtige Elemente beim Programmieren sind Möglichkeiten zur Steuerung des Programmflusses. Dies sind \"for/if/elif/else\" oder \"while\" mit \"break\" oder \"continue\". Sind diese Funktionen bekannt, einfach anwenden, Python ist hier intuitiv.\n",
    "\n",
    "Wen **for/if/elif/else** nicht bekannt sind, dann unbedingt in einem Python-Buch oder online-Kurs nachlesen oder ein online-video ansehen. Im Buch [A Byte of Python](https://python.swaroopch.com/) ist dies im folgendem Kapitel [Control Flow](https://python.swaroopch.com/control_flow.html).\n",
    "\n",
    "Wichtig bei Python ist, das Einrücken. Dies wird am Beispiel einer for-Schleife erklärt, da sie für Energierechnungen notwendig ist, um einzelne Teilschritte zu berechnen. Die Folgenden Zeilen können im Skript-File eingegeben werden."
   ]
  },
  {
   "cell_type": "code",
   "execution_count": 36,
   "metadata": {
    "hideCode": false,
    "hidePrompt": false
   },
   "outputs": [
    {
     "name": "stdout",
     "output_type": "stream",
     "text": [
      "2\n",
      "3\n",
      "4\n",
      "nun ist die for-Schleife zu Ende...\n",
      "...und es wird im Code fortgefahren\n"
     ]
    }
   ],
   "source": [
    "liste = [2,3,4]\n",
    "for i in liste:\n",
    "    print(i)\n",
    "print('nun ist die for-Schleife zu Ende...')\n",
    "print('...und es wird im Code fortgefahren')"
   ]
  },
  {
   "cell_type": "markdown",
   "metadata": {
    "hideCode": false,
    "hidePrompt": false
   },
   "source": [
    "Alles innerhalb der for-Schleife wird bei jedem Durchlauf bearbeitet. Was zu for-Schleife gehört und was nach der for-Schleife kommt, erkennt python durch das Einrücken. Eingerückter Code gehört zur for-Schleife. Ist der Code nichtmehr eingerückt so weiss Python dass die Schleife Zuende ist. Die for-Schleife führt Code-Sequenzen aus, wie hier \"print(i)\". i repräsentiert die einzelnen Elemente der \"liste\"."
   ]
  },
  {
   "cell_type": "code",
   "execution_count": 37,
   "metadata": {
    "hideCode": false,
    "hidePrompt": false
   },
   "outputs": [
    {
     "name": "stdout",
     "output_type": "stream",
     "text": [
      "Wahnsinn\n",
      "was\n",
      "mit\n",
      "Python\n",
      "alles\n",
      "geht!\n"
     ]
    }
   ],
   "source": [
    "for s in ['Wahnsinn', 'was', 'mit', 'Python', 'alles', 'geht!']:\n",
    "    print(s)"
   ]
  },
  {
   "cell_type": "markdown",
   "metadata": {},
   "source": [
    "## Kopieren in Python\n",
    "Stellt man sich einen Array als Kasten mit Schubladen vor, so lägen die Zahlenwerte in den einzelnen Schubladen. Als Beispiel ein Kasten mit Namen k und den Zahlen 1, 2, 3, 4, 5."
   ]
  },
  {
   "cell_type": "code",
   "execution_count": 38,
   "metadata": {},
   "outputs": [],
   "source": [
    "k = np.array((1, 2, 3, 4, 5))"
   ]
  },
  {
   "cell_type": "markdown",
   "metadata": {},
   "source": [
    "Nun ist \"k\" nicht der Kasten, sondern das \"Schildchen\" wo auf den Standort des Kasten zeigt. Wir machen nun eine Kopie \"a\" von \"k\" und weisen dem letzen Element/Schublade den Wert 99 zu und sehen was passiert:"
   ]
  },
  {
   "cell_type": "code",
   "execution_count": 39,
   "metadata": {},
   "outputs": [
    {
     "name": "stdout",
     "output_type": "stream",
     "text": [
      "a: [1 2 3 4 9]\n",
      "k: [1 2 3 4 9]\n"
     ]
    }
   ],
   "source": [
    "a = k\n",
    "a[-1] = 9\n",
    "print('a: ' + str(a))\n",
    "print('k: ' + str(k))"
   ]
  },
  {
   "cell_type": "markdown",
   "metadata": {},
   "source": [
    "Nun geben wir \"k\" aus und sehen dass auch dort das letzte Element geändert wurde! Dies liegt daran das wir nicht den \"Kasten\" kopiert haben, sondern das \"Schildchen\". Die Änderung haben wir aber beim Kasten gemacht, d.h. beide Schildchen zeigen auf den selben Kansten.\n",
    "\n",
    "Um eine richtige Kopie zu machen, führen wir folgendes aus:"
   ]
  },
  {
   "cell_type": "code",
   "execution_count": 40,
   "metadata": {},
   "outputs": [
    {
     "name": "stdout",
     "output_type": "stream",
     "text": [
      "a: [1 2 3 4 6]\n",
      "k: [1 2 3 4 9]\n"
     ]
    }
   ],
   "source": [
    "a = k.copy()\n",
    "a[-1] = 6\n",
    "print('a: ' + str(a))\n",
    "print('k: ' + str(k))"
   ]
  },
  {
   "cell_type": "markdown",
   "metadata": {
    "hideCode": false,
    "hidePrompt": false
   },
   "source": [
    "# Hilfe\n",
    "Zu den einzelnen Funktionen ist ein Hilfetext hinterlegt, welcher durch \"help()\" aufgerufen werden kann. **Probiere mal \"help(np.sqrt)\"**."
   ]
  },
  {
   "cell_type": "markdown",
   "metadata": {
    "hideCode": false,
    "hidePrompt": false
   },
   "source": [
    "Für allgemeine Hilfe zu Python verwendet man am Besten die Internetsuchmaschine und stellt die Frage. Es finden sich Reference-Manuals, Lernvideos, Forumseinträge, usw.\n",
    "\n",
    "Beim Programmieren unterstütz der Editor die Fehlersuche durch Fehlermeldungen:"
   ]
  },
  {
   "cell_type": "code",
   "execution_count": 41,
   "metadata": {
    "hideCode": false,
    "hidePrompt": false
   },
   "outputs": [
    {
     "ename": "ValueError",
     "evalue": "operands could not be broadcast together with shapes (5,) (10,) ",
     "output_type": "error",
     "traceback": [
      "\u001b[1;31m---------------------------------------------------------------------------\u001b[0m",
      "\u001b[1;31mValueError\u001b[0m                                Traceback (most recent call last)",
      "\u001b[1;32m<ipython-input-41-53ebf223a692>\u001b[0m in \u001b[0;36m<module>\u001b[1;34m\u001b[0m\n\u001b[0;32m      1\u001b[0m \u001b[0ma\u001b[0m \u001b[1;33m=\u001b[0m \u001b[0mnp\u001b[0m\u001b[1;33m.\u001b[0m\u001b[0mlinspace\u001b[0m\u001b[1;33m(\u001b[0m\u001b[1;36m1\u001b[0m\u001b[1;33m,\u001b[0m\u001b[1;36m10\u001b[0m\u001b[1;33m,\u001b[0m\u001b[1;36m5\u001b[0m\u001b[1;33m)\u001b[0m\u001b[1;33m\u001b[0m\u001b[1;33m\u001b[0m\u001b[0m\n\u001b[0;32m      2\u001b[0m \u001b[0mb\u001b[0m \u001b[1;33m=\u001b[0m \u001b[0mnp\u001b[0m\u001b[1;33m.\u001b[0m\u001b[0mlinspace\u001b[0m\u001b[1;33m(\u001b[0m\u001b[1;36m1\u001b[0m\u001b[1;33m,\u001b[0m\u001b[1;36m10\u001b[0m\u001b[1;33m,\u001b[0m\u001b[1;36m10\u001b[0m\u001b[1;33m)\u001b[0m\u001b[1;33m\u001b[0m\u001b[1;33m\u001b[0m\u001b[0m\n\u001b[1;32m----> 3\u001b[1;33m \u001b[0mc\u001b[0m \u001b[1;33m=\u001b[0m \u001b[0ma\u001b[0m \u001b[1;33m+\u001b[0m \u001b[0mb\u001b[0m\u001b[1;33m\u001b[0m\u001b[1;33m\u001b[0m\u001b[0m\n\u001b[0m",
      "\u001b[1;31mValueError\u001b[0m: operands could not be broadcast together with shapes (5,) (10,) "
     ]
    }
   ],
   "source": [
    "a = np.linspace(1,10,5)\n",
    "b = np.linspace(1,10,10)\n",
    "c = a + b"
   ]
  },
  {
   "cell_type": "markdown",
   "metadata": {
    "hideCode": false,
    "hidePrompt": false
   },
   "source": [
    "Unklar sind die Fehlermeldung wenn ungleichviel Klammern geöffnet und geschlossen werden. Hier wird der Fehler bei der nachfolgenden Zeile angezeigt, welches verwirrend ist."
   ]
  },
  {
   "cell_type": "code",
   "execution_count": null,
   "metadata": {
    "hideCode": false,
    "hidePrompt": false
   },
   "outputs": [],
   "source": [
    "b = (a + (2*a + 1)+ (3*a + 2)\n",
    "c = a + b"
   ]
  },
  {
   "cell_type": "markdown",
   "metadata": {
    "hideCode": false,
    "hidePrompt": false
   },
   "source": [
    "Der zeite Fall von unklarer Fehlermeldung tritt bei Umlauten auf, kann aber durch die \"magischen Kommandozeilen\" gelöst werden (siehe weiter oben im Text)."
   ]
  },
  {
   "cell_type": "code",
   "execution_count": null,
   "metadata": {
    "hideCode": false,
    "hidePrompt": false
   },
   "outputs": [],
   "source": [
    "a = 10 # [m] Breite\n",
    "b = 2  # [m] Höhe\n",
    "c = 2*a + 2*b # [m] Umfang"
   ]
  },
  {
   "cell_type": "markdown",
   "metadata": {},
   "source": [
    "#  Tutorial 1 - Übung 6: 3D Plot \n",
    "Variieren wir nicht einen Parameter, sondern einen zweiten Parameter, so lässt sich das Ergebnis als 3D-Plot darstellen. Dies wird über die Funktion \"plot_surface\" realisiert. Für die Farbdarstellung importieren wir cm (colormap). Im folgendem Beispiel wird \"cm.Blues\" verwendet. Es wird \"LinearLocator, FormatStrFormatter\" für die Achsenformatierung importiert.\n",
    "Beim untenstehenden Code wird eine Beispiel-Funktion gewählt, welche ein Eintdruck vermitteln soll was mit 3D-Plot möglich ist."
   ]
  },
  {
   "cell_type": "code",
   "execution_count": null,
   "metadata": {},
   "outputs": [],
   "source": [
    "# -*- coding: utf-8 -*-\n",
    "\"\"\"\n",
    "Beispiel für ein 3D-Plot. Speichere das Skript ab als 3dplot.py und rufe dieses \n",
    "über die Windows-Konsole (Windostaste>cmd) auf mit \"python 3dplot.py\". Es öffnet sich ein Fenster\n",
    "mit dem 3D-Plot.\n",
    "\"\"\"\n",
    "import numpy as np\n",
    "import matplotlib.pyplot as plt\n",
    "from mpl_toolkits.mplot3d import Axes3D\n",
    "from matplotlib import cm\n",
    "from matplotlib.ticker import LinearLocator, FormatStrFormatter\n",
    "\n",
    "xArray=np.linspace(-2, 2,  90)\n",
    "yArray=np.linspace(-2, 2, 110)\n",
    "\n",
    "### Initialisierung, d.h. es werden Array mit Nullen (zeros) erzeugt\n",
    "zMatrix = np.zeros((yArray.size, xArray.size))\n",
    "\n",
    "for x in range(xArray.size):\n",
    "    a = xArray[x]\n",
    "    for y in range(yArray.size):\n",
    "        b = yArray[y]\n",
    "#…Berechnungscode….Anfang\n",
    "        berechneteDaten = 500*a*b*np.exp(-a**2-b**2)\n",
    "#…Berechnungscode….Ende\n",
    "\n",
    "        zMatrix[y,x]= berechneteDaten            \n",
    "    \n",
    "fig = plt.figure(4, figsize=(8,4))\n",
    "ax = fig.gca(projection='3d')\n",
    "X, Y = np.meshgrid(xArray, yArray)\n",
    "surf = ax.plot_surface(X, Y, zMatrix, \\\n",
    "                       rstride=1, cstride=1,\\\n",
    "                       cmap=cm.Blues, linewidth=0.2)\n",
    "ax.set_xlabel('xArray')\n",
    "ax.set_ylabel('yArray')\n",
    "ax.set_zlabel('z-Achse')\n",
    "ax.zaxis.set_major_locator(LinearLocator(5)) # Definiert Anzahl Teilstriche\n",
    "ax.zaxis.set_major_formatter(FormatStrFormatter('%.f')) # Formatierung Zahl\n",
    "fig.colorbar(surf, shrink=0.5, aspect=5)\n",
    "ax.view_init(azim=29, elev=29)\n",
    "plt.show()\n"
   ]
  },
  {
   "cell_type": "markdown",
   "metadata": {
    "collapsed": true
   },
   "source": [
    "Alternativ kann auch \"Contour\" als Plot verwendet werden:"
   ]
  },
  {
   "cell_type": "code",
   "execution_count": null,
   "metadata": {},
   "outputs": [],
   "source": [
    "fig = plt.figure(5, figsize=(8,6))\n",
    "X, Y = np.meshgrid(xArray, yArray)\n",
    "CS = plt.contour(X, Y, zMatrix, 15) # 15 Linien\n",
    "plt.clabel(CS, inline=1, fontsize=10, fmt='%.f')\n",
    "plt.title('Fantasiebeispiel einer Funktion')\n",
    "plt.xlabel('x Achse')\n",
    "plt.ylabel('y Achse')\n",
    "plt.grid(which='both', linestyle='--')\n",
    "plt.show()\n"
   ]
  },
  {
   "cell_type": "markdown",
   "metadata": {
    "hideCode": false,
    "hidePrompt": false
   },
   "source": [
    "# Funktionen in Python\n",
    "Für die Sonnenstandsberechnung benötigen wir trigonometrische Funktionen (Sinus, Kosinus,...). Diese Funktionen sind in der numpy Bibliothek enthalten, jedoch rechnen diese mit Radiant und wir werden mit Grad rechnen. Um nicht jedesmal umrechnen zu müssen, bauen wir uns unsere eigene Funktionen mit Grad:"
   ]
  },
  {
   "cell_type": "code",
   "execution_count": null,
   "metadata": {},
   "outputs": [],
   "source": [
    "def sin(arg):\n",
    "    y = np.sin(np.deg2rad(arg))\n",
    "    return y"
   ]
  },
  {
   "cell_type": "markdown",
   "metadata": {
    "hideCode": false,
    "hidePrompt": false
   },
   "source": [
    "\"def\" zeigt an, dass wir eine Funktion definieren mit dem frei wählbarem Namen \"sin(arg)\". Mit den Variablennamen in Klammer definieren wir wieviel Variablen der Funktion übergeben werden. Anschliessend folgt der Code, welcher die Funktion ausführt. Am Ende definieren wir den Wert welcher zurück gegeben wird mit \"return\". Versuche dies im Editor und gib die Funktion ein. Teste anschliessend \"sin(45)\".\n",
    "\n",
    "### Lambda-Operator\n",
    "Die \"def\" zur Funktionsdefinition ist uns geholfen, jedoch benötigen wir 3 Zeilen Code um dies zu definieren. Dies geht in einer Zeile mit dem Lambda-Operator. Der Aufbau ist wie folgt am Beispiel $y = {b}^{e}$ als Funktion y = hoch(b,e) beschrieben."
   ]
  },
  {
   "cell_type": "code",
   "execution_count": null,
   "metadata": {
    "hideCode": false,
    "hidePrompt": false
   },
   "outputs": [],
   "source": [
    "hoch = lambda b, e : b ** e"
   ]
  },
  {
   "cell_type": "code",
   "execution_count": null,
   "metadata": {
    "hideCode": false,
    "hidePrompt": false
   },
   "outputs": [],
   "source": [
    "hoch(2,3)"
   ]
  },
  {
   "cell_type": "markdown",
   "metadata": {
    "hideCode": false,
    "hidePrompt": false
   },
   "source": [
    "Zuerst kommt der Funktionsname \"hoch\", ist gleich lambda. Nun weiss Python das hoch = keine Variabel ist, sondern dass eine Funktion definiert wird. Es folgen die Argumente getrennt duch Komma, anschliessend ein Doppelpunkt und der Ausdruck für die Berechnung. Vorteil des Lambda-Operator ist eine kompakte Schreibweise. \n",
    "\n",
    "Für die Sonnenstandsberechnung benötigen wir angesprochen Trigonometrische Funktionen (Sinus, Kosinus,...), welche mit dem Lambda-Operator wie folgt aussehen:"
   ]
  },
  {
   "cell_type": "code",
   "execution_count": null,
   "metadata": {
    "hideCode": false,
    "hidePrompt": false
   },
   "outputs": [],
   "source": [
    "cos  = lambda arg : np.cos(np.deg2rad(arg))\n",
    "sin  = lambda arg : np.sin(np.deg2rad(arg))\n",
    "acos = lambda arg : np.rad2deg(np.arccos(arg))\n",
    "asin = lambda arg : np.rad2deg(np.arcsin(arg))"
   ]
  },
  {
   "cell_type": "code",
   "execution_count": null,
   "metadata": {},
   "outputs": [],
   "source": []
  }
 ],
 "metadata": {
  "anaconda-cloud": {},
  "celltoolbar": "Hide code",
  "hide_code_all_hidden": true,
  "kernelspec": {
   "display_name": "Python 3",
   "language": "python",
   "name": "python3"
  },
  "language_info": {
   "codemirror_mode": {
    "name": "ipython",
    "version": 3
   },
   "file_extension": ".py",
   "mimetype": "text/x-python",
   "name": "python",
   "nbconvert_exporter": "python",
   "pygments_lexer": "ipython3",
   "version": "3.7.3"
  }
 },
 "nbformat": 4,
 "nbformat_minor": 1
}
