{
 "cells": [
  {
   "cell_type": "markdown",
   "metadata": {},
   "source": [
    "# Intro Python\n",
    "\n",
    "Python ist eine Programmiersprache, die zugleich einfach und mächtig ist und welche die Spass macht. Die ersten beiden scheinen sich zu wiedersprechen und der dritte Punkt trifft in der Regel nicht auf Programmiersprachen zu. Nach einigen Jahren programmieren kann ich alle Puntke voll und ganz bestätigen. Dieses Tutorial soll Python als wirkungsvolles Tool vermitteln und nicht eine Programmiersprache. \n",
    "\n",
    "Falls du gerne Python als Buch lesen möchtest, empfiehlt sich [A Byte of Python](https://python.swaroopch.com/) von Swaroop. Er zietiert auch Wendte mit: \"Erfolg im Leben ist eine Sache, die weniger mit Talent und Gelegenheit zu tun hat, als mit Konzentration und Beharrlichkeit.\"\n",
    "\n",
    "Viel Spass!\n",
    "Markus Markstaler.\n",
    "\n",
    "# Installation \n",
    "\n",
    "Der schnellste Weg um Python zu installieren ist über die Anaconda-Plattform, welches Python mit den wichtigsten Paketen (Libaries) enthält, sowie die Entwicklungsumgebung \"Spyder\" als Editor um Scribr-Files zu erstellen. [Anaconda](http://docs.continuum.io/anaconda/index).\n",
    "\n",
    "Bei Python gibt es grundsätzlich zwei Version: die 2.x und die 3.x. Natürlich verwenden wir die Neue Version! Die 2.x ist aber nach wie vor sehr verbreitet.\n",
    "\n",
    "**Pakete:** Zusätzliche (zu den bereits mitinstallierten) Pakete können über das Kommando-Window (cmd) mit dem Befehl `conda install <Paketname>` installieren, wobei `<Paketname>` durch den Namen des Pakets zu ersetzen ist. Anconda enthält jedoch alle, für uns notwendigen Pakete. \n",
    "\n",
    "## Updates\n",
    "\n",
    "Sie können die installierten Pakete im Kommando-Window mit folgenden beiden Befehlen updaten:\n",
    "\n",
    "1. `conda update conda`\n",
    "2. `conda update anaconda`\n",
    "\n",
    "\n",
    "# Lets start\n",
    "Nun starten wir die Entwicklungsumgebung \"Spyder\" für Python (windowstaste dann Spyder eingeben oder bei Mac nach \"Spyder\" suchen). Das müsste dann so aussehen:"
   ]
  },
  {
   "cell_type": "markdown",
   "metadata": {},
   "source": [
    "![Starten von Spyder und Befehl in Konsole eingeben](Folie1.PNG)"
   ]
  },
  {
   "cell_type": "markdown",
   "metadata": {},
   "source": [
    "Wie bei allem was mit Computer zu tun hat, geben wir nach dem Starten von \"Spyder\" in die Konsole (IPython console) ein Befehl ein. Die Konsole ist auch unser Python-Interpreter. Gib folgendes ein:"
   ]
  },
  {
   "cell_type": "code",
   "execution_count": 1,
   "metadata": {
    "collapsed": false
   },
   "outputs": [
    {
     "name": "stdout",
     "output_type": "stream",
     "text": [
      "Hello World!\n"
     ]
    }
   ],
   "source": [
    "print('Hello World!')"
   ]
  },
  {
   "cell_type": "markdown",
   "metadata": {},
   "source": [
    "Es wird der String ausgegeben. Ein String ist gekennzeichnet durch \"doppeltes Hochkomma\" oder 'einfaches Hochkomma', was gleichbedeutend ist. Bei drei Hochkommas kann der Text über mehrere Zeilen geschrieben werden und im Text können Hochkommas verwendet werden."
   ]
  },
  {
   "cell_type": "code",
   "execution_count": 19,
   "metadata": {
    "collapsed": false
   },
   "outputs": [],
   "source": [
    "a = 12"
   ]
  },
  {
   "cell_type": "code",
   "execution_count": 20,
   "metadata": {
    "collapsed": false
   },
   "outputs": [
    {
     "name": "stdout",
     "output_type": "stream",
     "text": [
      "36.2\n"
     ]
    }
   ],
   "source": [
    "print(a * 3 + abs(-0.2))"
   ]
  },
  {
   "cell_type": "markdown",
   "metadata": {},
   "source": [
    "Die Variablen können auch in einem eigenen Fenster dargestellt werden, dem \"Variable explorer\". Dieser wird wie folgt geöffnet:"
   ]
  },
  {
   "cell_type": "markdown",
   "metadata": {},
   "source": [
    "![Variablen über Variable Explorer anzeigen](Folie2.PNG)"
   ]
  },
  {
   "cell_type": "markdown",
   "metadata": {},
   "source": [
    "Nun werden einige mathematische Funktionen vorgestellt. Zuerst die Division:"
   ]
  },
  {
   "cell_type": "code",
   "execution_count": 21,
   "metadata": {
    "collapsed": false
   },
   "outputs": [
    {
     "data": {
      "text/plain": [
       "8.75"
      ]
     },
     "execution_count": 21,
     "metadata": {},
     "output_type": "execute_result"
    }
   ],
   "source": [
    "35/4"
   ]
  },
  {
   "cell_type": "markdown",
   "metadata": {},
   "source": [
    "So wird eine Ganzzahl-Division ausgeführt:"
   ]
  },
  {
   "cell_type": "code",
   "execution_count": 22,
   "metadata": {
    "collapsed": false
   },
   "outputs": [
    {
     "data": {
      "text/plain": [
       "8"
      ]
     },
     "execution_count": 22,
     "metadata": {},
     "output_type": "execute_result"
    }
   ],
   "source": [
    "35//4"
   ]
  },
  {
   "cell_type": "markdown",
   "metadata": {},
   "source": [
    "Hier die Modulo-Funktion oder auch \"Rest\" genannt:"
   ]
  },
  {
   "cell_type": "code",
   "execution_count": 23,
   "metadata": {
    "collapsed": false
   },
   "outputs": [
    {
     "data": {
      "text/plain": [
       "2"
      ]
     },
     "execution_count": 23,
     "metadata": {},
     "output_type": "execute_result"
    }
   ],
   "source": [
    "35 % 3"
   ]
  },
  {
   "cell_type": "markdown",
   "metadata": {},
   "source": [
    "Potenziert wird in Python mit **"
   ]
  },
  {
   "cell_type": "code",
   "execution_count": 24,
   "metadata": {
    "collapsed": false
   },
   "outputs": [
    {
     "data": {
      "text/plain": [
       "8"
      ]
     },
     "execution_count": 24,
     "metadata": {},
     "output_type": "execute_result"
    }
   ],
   "source": [
    "2**3"
   ]
  },
  {
   "cell_type": "markdown",
   "metadata": {},
   "source": [
    "Im gleichen Stil kann auch so die Kubik-Wurzel geschrieben werden:"
   ]
  },
  {
   "cell_type": "code",
   "execution_count": 25,
   "metadata": {
    "collapsed": false
   },
   "outputs": [
    {
     "data": {
      "text/plain": [
       "3.0"
      ]
     },
     "execution_count": 25,
     "metadata": {},
     "output_type": "execute_result"
    }
   ],
   "source": [
    "27**(1/3)"
   ]
  },
  {
   "cell_type": "markdown",
   "metadata": {},
   "source": [
    "Im Folgenden werden zwei Variablen definiert und geprüft ob sie gleich sind. Jede Zeile wird einzel eingegeben und mit Enter abgeschlossen:"
   ]
  },
  {
   "cell_type": "code",
   "execution_count": 26,
   "metadata": {
    "collapsed": false
   },
   "outputs": [
    {
     "data": {
      "text/plain": [
       "False"
      ]
     },
     "execution_count": 26,
     "metadata": {},
     "output_type": "execute_result"
    }
   ],
   "source": [
    "a = 5\n",
    "b = 6\n",
    "a == b"
   ]
  },
  {
   "cell_type": "code",
   "execution_count": 27,
   "metadata": {
    "collapsed": false
   },
   "outputs": [
    {
     "data": {
      "text/plain": [
       "True"
      ]
     },
     "execution_count": 27,
     "metadata": {},
     "output_type": "execute_result"
    }
   ],
   "source": [
    "a != b"
   ]
  },
  {
   "cell_type": "markdown",
   "metadata": {},
   "source": [
    "Energierechnungen basieren in der Regel auf Zeitreihen, z.B. Strahlungswerte über einen Tag im Intervall von 15 min.\n",
    "Python bietet hier \"Liste\". Eine Liste beginnt und endet mit eckigen Klammern []."
   ]
  },
  {
   "cell_type": "code",
   "execution_count": 28,
   "metadata": {
    "collapsed": true
   },
   "outputs": [],
   "source": [
    "H = [0, 10, 120, 230, 430, 500, 510, 460, 310, 190, 80, 1,]"
   ]
  },
  {
   "cell_type": "markdown",
   "metadata": {},
   "source": [
    "# Pakete importieren\n",
    "Mit Anaconda sind \"Numpy\" und \"Matplotlib\", als die beiden, für uns, wichtigsten Pakete installiert. Um sie anwenden zu können, müssen wir sie erst importieren. Dies erfolgt mit 'import numpy'. Numpy ist das Paket mit vielen numerischen Funktionen, wie z.B. die Absolut-Funktion abs(). Wenn wird diese später aufrufen wollen, müssen wir zuerst den Pakentnamen dann Punkt und dann den Funktionsnamen angeben \"numpy.abs(-3)\". Da dies etwas lang ist importieren wir wie folgt \"import numpy as np\", dann müssen wir später nur \"np.abs(-3)\" angeben. Importieren wir zuerst numpy, später dann Matplotlib."
   ]
  },
  {
   "cell_type": "code",
   "execution_count": 34,
   "metadata": {
    "collapsed": false
   },
   "outputs": [],
   "source": [
    "import numpy as np"
   ]
  },
  {
   "cell_type": "markdown",
   "metadata": {},
   "source": [
    "Nach Eingabe sieht man nichts auf der Konsole. Mit dir(paketname) können alle Funktionen (aber auch Klassen und Variablen) des importierten Moduls aufgelistet werden. Die importierten Pakete sind nun aktive bis Spyder wieder geschlossen wird."
   ]
  },
  {
   "cell_type": "markdown",
   "metadata": {},
   "source": [
    "Liste ermöglicht auch unterschiedliche Elemente wie String, Zahlen, usw.. Wir werden aber vektoriell rechnen, was ebenfalls durch numpy unterstützt wird, jeodoch müssen wir die Liste (nur mit Zahlen) in ein \"numpy-Array\" umwandeln. Dies geht so:"
   ]
  },
  {
   "cell_type": "code",
   "execution_count": 35,
   "metadata": {
    "collapsed": true
   },
   "outputs": [],
   "source": [
    "Hn = np.array(H)"
   ]
  },
  {
   "cell_type": "code",
   "execution_count": 36,
   "metadata": {
    "collapsed": false
   },
   "outputs": [
    {
     "data": {
      "text/plain": [
       "(12,)"
      ]
     },
     "execution_count": 36,
     "metadata": {},
     "output_type": "execute_result"
    }
   ],
   "source": [
    "Hn.shape"
   ]
  },
  {
   "cell_type": "markdown",
   "metadata": {
    "collapsed": false
   },
   "source": [
    "\"shape\" gibt die Form der Matrix an, d.h Anzahl Zeilen und Anzahl Spalten. Hier haben wir einen eindimensionalen Array."
   ]
  },
  {
   "cell_type": "markdown",
   "metadata": {},
   "source": [
    "Wie wir gelernt haben, wird eine Liste mit eckigen Klammern erzeugt. Werden eckige Klammern nach dem Variablennamen einer Liste oder eines Numpy-Array gesetzt, kann man auf die Elemente zugriefen. Man nennt dies \"Indexierung\".\n",
    "Die <b>Indexierung beginnt bei 0</b> nicht bei 1, d.h. das erste Element ist Hn[0] ! Im Folgeden werden Befehle eingegeben und anschliessen mit Kommentar erklärt. Der Kommentar wir mit Doppelkreuz # angegeben. Eingabe des Kommentar ist nicht erforderlich, sondern hier nur als Erklärung."
   ]
  },
  {
   "cell_type": "code",
   "execution_count": 40,
   "metadata": {
    "collapsed": false
   },
   "outputs": [
    {
     "data": {
      "text/plain": [
       "230"
      ]
     },
     "execution_count": 40,
     "metadata": {},
     "output_type": "execute_result"
    }
   ],
   "source": [
    "Hn[3] # das ist das vierte Element"
   ]
  },
  {
   "cell_type": "code",
   "execution_count": 41,
   "metadata": {
    "collapsed": false
   },
   "outputs": [
    {
     "data": {
      "text/plain": [
       "1"
      ]
     },
     "execution_count": 41,
     "metadata": {},
     "output_type": "execute_result"
    }
   ],
   "source": [
    "Hn[-1] # Das ist das letzte Element"
   ]
  },
  {
   "cell_type": "code",
   "execution_count": 42,
   "metadata": {
    "collapsed": false
   },
   "outputs": [
    {
     "data": {
      "text/plain": [
       "array([230, 430])"
      ]
     },
     "execution_count": 42,
     "metadata": {},
     "output_type": "execute_result"
    }
   ],
   "source": [
    "Hn[3:5] # Hier von Index 3 (viertes Element) bis und mit Index 4, ohne Index Fünf."
   ]
  },
  {
   "cell_type": "code",
   "execution_count": 43,
   "metadata": {
    "collapsed": false
   },
   "outputs": [
    {
     "data": {
      "text/plain": [
       "array([230, 430, 500, 510, 460, 310, 190])"
      ]
     },
     "execution_count": 43,
     "metadata": {},
     "output_type": "execute_result"
    }
   ],
   "source": [
    "Hn[3:-2]  # auch hier wird zweitletzter Index nicht mit genommen"
   ]
  },
  {
   "cell_type": "code",
   "execution_count": 44,
   "metadata": {
    "collapsed": false
   },
   "outputs": [
    {
     "data": {
      "text/plain": [
       "array([230, 430, 500, 510, 460, 310, 190,  80])"
      ]
     },
     "execution_count": 44,
     "metadata": {},
     "output_type": "execute_result"
    }
   ],
   "source": [
    "Hn[3:-1]  # hier wird bis zum zweitletzten Element übernommen, ohne den letzten Index"
   ]
  },
  {
   "cell_type": "code",
   "execution_count": 45,
   "metadata": {
    "collapsed": false
   },
   "outputs": [
    {
     "data": {
      "text/plain": [
       "array([230, 430, 500, 510, 460, 310, 190,  80,   1])"
      ]
     },
     "execution_count": 45,
     "metadata": {},
     "output_type": "execute_result"
    }
   ],
   "source": [
    "Hn[3:]  # Hier wird bis und mit letztem Element übernommen"
   ]
  },
  {
   "cell_type": "markdown",
   "metadata": {},
   "source": [
    "?? hier min max bez. np.minimum mp.maximum erklären\n"
   ]
  },
  {
   "cell_type": "markdown",
   "metadata": {
    "collapsed": true
   },
   "source": [
    "# Ausführbare Programme, bzw. Skript-Files\n",
    "Die Befehle können wir in ein File schreiben und als Skript laufen lassen. Das File wird mit der Endung *.py gespeichert. Den Inhalt des Files schreiben wir im linken Fenster bei \"Spyder\"Beispiel für ein Sktript, genannt der Editor. Im Folgenden importieren wir das Numeric-Paket Numpy und das Diagramm-Paket Matplotlib. Wir definieren wieder einen Array und stellen diesen als Diagramm dar. Nachdem wir das Script-File erstellt und gespeichert haben, können wir dies mit der grünen Dreiecks-Taste oben links \"laufen\" lassen, oder wir drücken die F5-Taste."
   ]
  },
  {
   "cell_type": "code",
   "execution_count": 47,
   "metadata": {
    "collapsed": false
   },
   "outputs": [
    {
     "data": {
      "image/png": "[encoded data removed]",
      "text/plain": [
       "<matplotlib.figure.Figure at 0x23de909b8d0>"
      ]
     },
     "metadata": {},
     "output_type": "display_data"
    }
   ],
   "source": [
    "### importieren von Bibliotheken\n",
    "import matplotlib.pyplot as plt\n",
    "import numpy as np\n",
    "\n",
    "H = [0, 10, 120, 230, 430, 500, 510, 460, 310, 190, 80, 1,]\n",
    "Hn = np.array(H)\n",
    "\n",
    "### Ausgabe\n",
    "plt.plot(Hn, 'r--', label='Strahlung')\n",
    "plt.ylabel('Strahlung [W/m2]')\n",
    "plt.title('Tagesverlauf Globalstrahlung')\n",
    "plt.grid()\n",
    "plt.legend(loc='upper right')\n",
    "plt.show()"
   ]
  },
  {
   "cell_type": "markdown",
   "metadata": {},
   "source": [
    "Das Diagramm wird mit \"plot\" generiert. Mit 'r--' wird die Linienfarbe und Linienart angegeben. Mit \"label\" wird der Name der Kennlinie angegeben, welcher nachfolgend über \"legend\" dargestellt wird. Der Befehl \"grid\" zeichnet die Hilfslinien ins Diagramm.\n",
    "\n",
    "Nun erzeugen wir einen Zeit-Array von 6 bis 19 Uhr. Der Zeitarray sollte gleich viele Elemente haben wie der Strahlungs-Array Hn. Die Länge des Strahlungs-Arry finden wir mit Hn.size heraus. Um einen Numpy-Array zu erzeugen werden wir die Funktion linspace(start,stop, AnzahlElemente). \n",
    "\n",
    "Du kannst das bestehende Skript-File mit den folgenden Aufgaben abändern und ausprobieren. Es ist nicht notwendig für jede Übung ein eigenes Skript-File zu erstellen und speichern."
   ]
  },
  {
   "cell_type": "code",
   "execution_count": 2,
   "metadata": {
    "collapsed": false
   },
   "outputs": [
    {
     "data": {
      "image/png": "[encoded data removed]",
      "text/plain": [
       "<matplotlib.figure.Figure at 0x191f5de27f0>"
      ]
     },
     "metadata": {},
     "output_type": "display_data"
    }
   ],
   "source": [
    "### importieren von Bibliotheken\n",
    "import matplotlib.pyplot as plt\n",
    "import numpy as np\n",
    "\n",
    "H = [0, 10, 120, 230, 430, 500, 510, 460, 310, 190, 80, 1,]\n",
    "Hn = np.array(H)\n",
    "tn = np.linspace(6,19,Hn.size)\n",
    "\n",
    "### Ausgabe\n",
    "plt.plot(tn, Hn, color='#aa5500', linewidth=3, label = 'Strahlung')\n",
    "plt.xlabel('Zeit')\n",
    "plt.ylabel('Strahlung [W/m2]')\n",
    "plt.grid()\n",
    "plt.legend(loc='upper left')\n",
    "plt.show()"
   ]
  },
  {
   "cell_type": "markdown",
   "metadata": {},
   "source": [
    "Die Linienfarbe kann auch als RGB-Wert in Hex angegeben werden, durch \"color = #aabbcc\". Ebenso die Stärke der Linie über \"linewidth\"."
   ]
  },
  {
   "cell_type": "markdown",
   "metadata": {
    "collapsed": true
   },
   "source": [
    "# weiteres Beispiel"
   ]
  },
  {
   "cell_type": "code",
   "execution_count": 3,
   "metadata": {
    "collapsed": false
   },
   "outputs": [
    {
     "data": {
      "image/png": "[encoded data removed]",
      "text/plain": [
       "<matplotlib.figure.Figure at 0x191f5de2470>"
      ]
     },
     "metadata": {},
     "output_type": "display_data"
    }
   ],
   "source": [
    "# -*- coding: utf-8 -*-\n",
    "\"\"\"\n",
    "Es empfiehlt sich am Anfang kurz zu beschreiben was das Skript macht...\n",
    "24.2.2017, Markstaler\n",
    "\"\"\"\n",
    "\n",
    "### importieren von Bibliotheken\n",
    "import matplotlib.pyplot as plt\n",
    "import numpy as np\n",
    "\n",
    "### definiern von Funktionen mit dem lambda-Operator\n",
    "sin = lambda x  : np.sin(np.deg2rad(x))\n",
    "\n",
    "### Parameterdefinition\n",
    "pD  = 20  # [ms] Periodendauer\n",
    "eff = 230 # [V]  Effektivwert einer Spannung\n",
    "\n",
    "### Berechnung\n",
    "zeit = np.linspace(0,20,200) # [ms]\n",
    "amp  = sin(zeit/pD*360) * np.sqrt(2) * eff  # [V]\n",
    "\n",
    "### Ausgabe\n",
    "fig = plt.figure(1, figsize=(5,3), dpi = 100)\n",
    "plt.plot(zeit,amp, 'b-')\n",
    "plt.xlabel('Zeit [ms]')\n",
    "plt.ylabel('Spannung [V]')\n",
    "plt.title('Spannung über Zeit äöüß')\n",
    "plt.grid()\n",
    "plt.show()\n",
    "plt.close('fig')"
   ]
  },
  {
   "cell_type": "markdown",
   "metadata": {},
   "source": [
    "Nun sind da einige neue Funktionalitäten. In der ersten Zeile steht \" # -*- coding: utf-8 -*- \". Bei Python können \"magische\" Kommandozeilen angegeben werden, sodass der Python-Interpreter den richtigen Zeichensatz verwendet. Standardmässig ist der ASCII-Satz vorgesehe, bei welchem die Umlaute und ß nicht enthalten sind. Dies führt zu einer Fehlermeldung (es lohnt sich dies auszuprobieren). Um die Kodierungsproblematik zu lösen, geben wir in der ersten Zeile an, dass der UTF-8-Code verwendet werden soll.\n",
    "\n",
    "Anschliessend kommt ein Kommentar über mehrere Zeilen durch drei Hochkommas zur Doku. Es werden Pakete importiert und Funktionen, hier über den lambda-Operator, mehr dazu gleich. \n",
    "\n",
    "Wir geben einen Spannungsverlauf aus, mit der Periodendauer 20 ms und einer Effektivspannung von 230 V. Für die Berechung des Verlaufs müssen wir die 20 ms in 360° umrechnen und den Spitzenwert der Spannung über $\\sqrt 2$ (=np.sqrt(2)).\n",
    "\n",
    "Mit \"fig = plt.figure(1, figsize=(5,3))\" erzeugen wir ein Figure-Objekt. Für dies wird ein Platz im Speicher vorgesehen. Wenn viele \"fig\" erzeugt werden, so sollten dies geschlossen werden um Speicher freizugeben. Dies erfolgt mit \"plt.close('fig'). Bei erzeugen des Figure-Objekt kann auch u.a. die Diagrammgrösse angegeben werden oder die Auflösung über \"dpi\".\n",
    "\n",
    "Wenn wir das Scrit-File unter \"sinus.py\" abspeichern, so können wir das Programm wie folgt startet. Wir öffnen das Kommando-Window (Windowstaste+cmd) und wechseln in das Verzeichnis, wo \"sinus.py\" abgelegt ist. Wir geben in das Kommando-Window \"python sinus.py\" ein.\n",
    "\n",
    "Das Programm bleibt so lange offen, bis das Fenster wieder geschlossen wird."
   ]
  },
  {
   "cell_type": "markdown",
   "metadata": {},
   "source": [
    "## Lambda-Operator\n",
    "Mit dem Lambda-Operator lassen sich ebenfalls Funktionen definieren. Der Aufbau ist wie folgt am Beispiel $y = {b}^{e}$ als Funktion y = hoch(b,e) beschrieben."
   ]
  },
  {
   "cell_type": "code",
   "execution_count": 4,
   "metadata": {
    "collapsed": true
   },
   "outputs": [],
   "source": [
    "hoch = lambda b, e : b ** e"
   ]
  },
  {
   "cell_type": "code",
   "execution_count": 5,
   "metadata": {
    "collapsed": false
   },
   "outputs": [
    {
     "data": {
      "text/plain": [
       "8"
      ]
     },
     "execution_count": 5,
     "metadata": {},
     "output_type": "execute_result"
    }
   ],
   "source": [
    "hoch(2,3)"
   ]
  },
  {
   "cell_type": "markdown",
   "metadata": {},
   "source": [
    "Zuerst kommt der Funktionsname \"hoch\", ist gleich lambda, dann folgen die Argumente getrennt duch Komma, anschliessend Doppelpunkt und der Ausdruck für die Berechnung. Vorteil ist eine kompakte Schreibweise. "
   ]
  },
  {
   "cell_type": "markdown",
   "metadata": {},
   "source": [
    "?? hier sin cos erklären weshalb (radiant) vorteil von grad"
   ]
  },
  {
   "cell_type": "markdown",
   "metadata": {},
   "source": [
    "# Hilfe\n",
    "Zu den einzelnen Funktionen ist ein Hilfetext hinterlegt, welcher durch \"help()\" aufgerufen werden kann. Probiere mal \"help(np.sqrt)\"."
   ]
  },
  {
   "cell_type": "markdown",
   "metadata": {},
   "source": [
    "Für allgemeine Hilfe zu Python verwendet man am Besten die Internetsuchmaschine und stellt die Frage. Es finden sich Reference-Manuals, Lernvideos, Forumseinträge, usw.\n",
    "\n",
    "Beim Programmieren unterstütz der Editor die Fehlersuche durch Fehlermeldungen:"
   ]
  },
  {
   "cell_type": "code",
   "execution_count": 7,
   "metadata": {
    "collapsed": false
   },
   "outputs": [
    {
     "ename": "ValueError",
     "evalue": "operands could not be broadcast together with shapes (5,) (10,) ",
     "output_type": "error",
     "traceback": [
      "\u001b[0;31m---------------------------------------------------------------------------\u001b[0m",
      "\u001b[0;31mValueError\u001b[0m                                Traceback (most recent call last)",
      "\u001b[0;32m<ipython-input-7-277ce040a2db>\u001b[0m in \u001b[0;36m<module>\u001b[0;34m()\u001b[0m\n\u001b[1;32m      1\u001b[0m \u001b[0ma\u001b[0m \u001b[1;33m=\u001b[0m \u001b[0mnp\u001b[0m\u001b[1;33m.\u001b[0m\u001b[0mlinspace\u001b[0m\u001b[1;33m(\u001b[0m\u001b[1;36m1\u001b[0m\u001b[1;33m,\u001b[0m\u001b[1;36m10\u001b[0m\u001b[1;33m,\u001b[0m\u001b[1;36m5\u001b[0m\u001b[1;33m)\u001b[0m\u001b[1;33m\u001b[0m\u001b[0m\n\u001b[1;32m      2\u001b[0m \u001b[0mb\u001b[0m \u001b[1;33m=\u001b[0m \u001b[0mnp\u001b[0m\u001b[1;33m.\u001b[0m\u001b[0mlinspace\u001b[0m\u001b[1;33m(\u001b[0m\u001b[1;36m1\u001b[0m\u001b[1;33m,\u001b[0m\u001b[1;36m10\u001b[0m\u001b[1;33m,\u001b[0m\u001b[1;36m10\u001b[0m\u001b[1;33m)\u001b[0m\u001b[1;33m\u001b[0m\u001b[0m\n\u001b[0;32m----> 3\u001b[0;31m \u001b[0mc\u001b[0m \u001b[1;33m=\u001b[0m \u001b[0ma\u001b[0m \u001b[1;33m+\u001b[0m \u001b[0mb\u001b[0m\u001b[1;33m\u001b[0m\u001b[0m\n\u001b[0m",
      "\u001b[0;31mValueError\u001b[0m: operands could not be broadcast together with shapes (5,) (10,) "
     ]
    }
   ],
   "source": [
    "a = np.linspace(1,10,5)\n",
    "b = np.linspace(1,10,10)\n",
    "c = a + b"
   ]
  },
  {
   "cell_type": "markdown",
   "metadata": {},
   "source": [
    "Unklar sind die Fehlermeldung wenn ungleichviel Klammern geöffnet und geschlossen werden. Hier wird der Fehler bei der nachfolgenden Zeile angezeigt, welches verwirrend ist."
   ]
  },
  {
   "cell_type": "code",
   "execution_count": 9,
   "metadata": {
    "collapsed": false
   },
   "outputs": [
    {
     "ename": "SyntaxError",
     "evalue": "invalid syntax (<ipython-input-9-7f49755856c7>, line 2)",
     "output_type": "error",
     "traceback": [
      "\u001b[0;36m  File \u001b[0;32m\"<ipython-input-9-7f49755856c7>\"\u001b[0;36m, line \u001b[0;32m2\u001b[0m\n\u001b[0;31m    c = a + b\u001b[0m\n\u001b[0m    ^\u001b[0m\n\u001b[0;31mSyntaxError\u001b[0m\u001b[0;31m:\u001b[0m invalid syntax\n"
     ]
    }
   ],
   "source": [
    "b = (a + (2*a + 1)+ (3*a + 2)\n",
    "c = a + b"
   ]
  },
  {
   "cell_type": "markdown",
   "metadata": {},
   "source": [
    "Der zeite Fall von unklarer Fehlermeldung tritt bei Umlauten auf:"
   ]
  },
  {
   "cell_type": "code",
   "execution_count": 11,
   "metadata": {
    "collapsed": true
   },
   "outputs": [],
   "source": [
    "a = 10 # [m] Breite\n",
    "b = 2  # [m] Höhe\n",
    "c = 2*a + 2*b # [m] Umfang"
   ]
  },
  {
   "cell_type": "markdown",
   "metadata": {},
   "source": [
    "# Weitere Programmiergrundlagen\n",
    "Weitere wichtige Elemente beim Programmieren sind Möglichkeiten zur Steuerung des Programmflusses. Dies sind \"if/elif/else\" oder \"while\" mit \"break\" oder \"continue\". Sind diese Funktionen bekannt, einfach anwenden, Python ist hier intuitiv, ansonst nachlesen im Kapitel [Control Flow](https://python.swaroopch.com/control_flow.html) im Buch [A Byte of Python](https://python.swaroopch.com/).\n",
    "\n",
    "Einzig die for-Schleife wird erklärt, da sie für Energierechnungen notwendig sein kann, um einzelne Teilschritte zu berechnen. Die Folgenden Zeilen können im Skript-File eingegeben werden."
   ]
  },
  {
   "cell_type": "code",
   "execution_count": 1,
   "metadata": {
    "collapsed": false
   },
   "outputs": [
    {
     "name": "stdout",
     "output_type": "stream",
     "text": [
      "2\n",
      "3\n",
      "4\n",
      "nun ist die for-Schleife zu Ende...\n",
      "...und es wird im Code fortgefahren\n"
     ]
    }
   ],
   "source": [
    "for i in range(2,5):\n",
    "    print(i)\n",
    "print('nun ist die for-Schleife zu Ende...')\n",
    "print('...und es wird im Code fortgefahren')"
   ]
  },
  {
   "cell_type": "markdown",
   "metadata": {},
   "source": [
    "Alles innerhalb der for-Schleife wird bei jedem Durchlauf bearbeitet. Was zu for-Schleife gehört und was nach der for-Schleife kommt, erkennt python durch das Einrücken. Eingerückter Code gehört zur for-Schleife. Ist Einrückung fertig so weiss Python das dies nichtmehr zur Schleife gehört. Die for-Schleife führt Code-Sequenzen aus, wie hier \"print(i)\". Sie beinhaltet die Zählvariabel, welche hier \"i\" genannt wurde. Die Anzahl ist definiert mit \"range(2,5)\", d.h. es beginnt mit 1 bis <b>ohne</b> 5, in Ganzzahlschitten (nur Integer möglich). Dies liegt an der Python-Funktion range (siehe help(range)).\n",
    "\n",
    "Verständlicher ist wenn, mit einem numpy-Array gearbeitet wird und dieser über linspace(start,stop, AnzahlElemente) erzeugt wird."
   ]
  },
  {
   "cell_type": "code",
   "execution_count": 3,
   "metadata": {
    "collapsed": false
   },
   "outputs": [
    {
     "name": "stdout",
     "output_type": "stream",
     "text": [
      "Wahnsinn\n",
      "was\n",
      "mit\n",
      "Python\n",
      "alles\n",
      "geht!\n"
     ]
    }
   ],
   "source": [
    "for s in ['Wahnsinn', 'was', 'mit', 'Python', 'alles', 'geht!']:\n",
    "    print(s)"
   ]
  },
  {
   "cell_type": "markdown",
   "metadata": {},
   "source": [
    "Dieses IntroPython wurde mit Jupyter Notebook erstellt, welches ebenfalls in Anaconda-Paket enthalten ist.\n",
    "14.3.2017, Markus Markstaler."
   ]
  },
  {
   "cell_type": "markdown",
   "metadata": {
    "collapsed": true
   },
   "source": [
    "test"
   ]
  }
 ],
 "metadata": {
  "anaconda-cloud": {},
  "kernelspec": {
   "display_name": "Python [default]",
   "language": "python",
   "name": "python3"
  },
  "language_info": {
   "codemirror_mode": {
    "name": "ipython",
    "version": 3
   },
   "file_extension": ".py",
   "mimetype": "text/x-python",
   "name": "python",
   "nbconvert_exporter": "python",
   "pygments_lexer": "ipython3",
   "version": "3.5.2"
  }
 },
 "nbformat": 4,
 "nbformat_minor": 0
}
