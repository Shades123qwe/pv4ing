{
 "cells": [
  {
   "cell_type": "markdown",
   "metadata": {},
   "source": [
    "Es gibt unterschiedliche Schreibweisen (Namenskonvention) für Variablen in Software-Code. Im Folgenden wird CapWords verwendet (von CapitalizedWords auch CamelCase oder Medial Capitals genannt). Der Variabelname wir mit Kleinbuchstaben geschrieben und der Beginn der Wörter wird gross und zusammen geschrieben. Beginnender Buchstabe ist klein. Als Beispiel eine Variabel aus drei Informationen:\n",
    "\n",
    "h für Strahlung\n",
    "\n",
    "Glob für Globalstrahlung\n",
    "\n",
    "Buchs für den Standort Buchs\n",
    "\n",
    "So wird die Variabel mit CapWord als „hGlobBuchs“ beschrieben. Eine andere Namenskonvention wäre Snake_Case, als Beispiel: „h_glob_buchs“."
   ]
  },
  {
   "cell_type": "markdown",
   "metadata": {},
   "source": [
    "Im Tutorial werden folgende Variablennamen verwendet:\n",
    "\n",
    "$\\Phi_w$ = lg (gibt den Längengrad des Standorts in Grad an)\n",
    "\n",
    "$\\rho$ = bg (gibt den Breitengrad des Standorts in Grad an)\n",
    "\n",
    "$\\omega$ = omega (Stundenwinkel in Grad. 0° entspricht 12 Uhr wahrer\n",
    "Ortszeit)\n",
    "\n",
    "$\\delta$ = dekl (Deklination in Grad)\n",
    "\n",
    "$h$ = h (gesuchte Grösse Sonnenhöhe h in Grad)\n",
    "\n",
    "$\\Psi$ = azi (gesuchte Grösse Sonnenazimut in Grad)\n"
   ]
  },
  {
   "cell_type": "markdown",
   "metadata": {},
   "source": [
    "# Tutorial 1: Berechnung des Sonnenstands\n",
    "Ausgehend vom Standort und der Zeit in UTC wird die Sonnenhöhe h und der Sonnenazimut $\\Psi$ über die folgenden Formeln berechnet, ohne Berücksichtigung der Zeitgleichung:\n",
    "$$\\omega = \\phi_w + 15\\cdot t_{utc} - 180^{\\circ}$$"
   ]
  },
  {
   "cell_type": "markdown",
   "metadata": {},
   "source": [
    "$$\\delta = 23.45 \\cos \\left(\\dfrac{360^{\\circ}}{8760} \\cdot(n-173 \\cdot 24)\\right)$$"
   ]
  },
  {
   "cell_type": "markdown",
   "metadata": {},
   "source": [
    "$$\\sin(h) = \\sin(\\delta) \\sin(\\rho) + \\cos(\\delta) \\cos(\\rho) \\cos(\\omega)$$"
   ]
  },
  {
   "cell_type": "markdown",
   "metadata": {},
   "source": [
    "$$\\cos(\\Psi) = \\frac{\\sin(h) \\sin(\\rho) - \\sin(\\delta)}{\\cos(h) \\cos(\\rho)}$$"
   ]
  },
  {
   "cell_type": "markdown",
   "metadata": {},
   "source": [
    "Um vom Datum, bestehend aus Monat und Tag, den laufenden Tag n (beginnend vom 1. Jänner) zu berechnen eignet sich folgende Formel, sofern notwendig:"
   ]
  },
  {
   "cell_type": "markdown",
   "metadata": {},
   "source": [
    "$$nTag=int \\left(\\dfrac{275\\cdot M}{9}\\right) - K\\cdot int  \\left(\\dfrac{M+9}{12}\\right)+D-30$$"
   ]
  },
  {
   "cell_type": "markdown",
   "metadata": {},
   "source": [
    "M steht für den Monat, D für den Tag, K = 1 für ein Schaltjahr, K = 2 für ein normales Jahr. int steht für die Verwendung des Integerwerts der Zahl (Python-Funktion int). Die laufende Stunde n im Jahr berechnet sich:"
   ]
  },
  {
   "cell_type": "markdown",
   "metadata": {},
   "source": [
    "$$n = 24 \\cdot nTag + hh$$"
   ]
  },
  {
   "cell_type": "markdown",
   "metadata": {
    "collapsed": true
   },
   "source": [
    "Für hh die Stunde. Für die Berechnung der Sonnenhöhe h und des Sonnenazimuts $\\Psi$ muss die Umkehrfunktion von $\\sin()$ bzw. $\\cos()$ verwendet werden. Diese ist allerdings nicht eineindeutig. Die Umkehrfunktion von Sinus (Arcussinus) ist nur für den Bereich $-90^\\circ$ bis $90^\\circ$ eineindeutig."
   ]
  },
  {
   "cell_type": "markdown",
   "metadata": {},
   "source": [
    "![Sinusfuktion im Einheitskreis](sin.png)"
   ]
  },
  {
   "cell_type": "markdown",
   "metadata": {},
   "source": [
    "D.h. für die Sonnenhöhe h ist die Umkehrfunktion gültig, weil der Wertebereich der Sonnenhöhe zwischen $-90^\\circ$ und $90^\\circ$ liegt. Die Umkehrfunktion von Kosinus (Arcuskosinus) ist für den Bereich $0^\\circ$ bis $180^\\circ$ eindeutig."
   ]
  },
  {
   "cell_type": "markdown",
   "metadata": {},
   "source": [
    "![Kosinusfuktion im Einheitskreis](cos.png)"
   ]
  },
  {
   "cell_type": "markdown",
   "metadata": {},
   "source": [
    "Für den Sonnenazimut ist dies nicht eindeutig, da der Sonnenazimut von weniger als $-120^\\circ$ bis über $120^\\circ$ durchläuft. Für den Verlauf der Sonne von Mittag=Süden ($0^\\circ$) bis zum Abend=Westen (über $90^\\circ$) liefert die Umkehrfunktion den richtigen Wert. Für den Verlauf von Morgen=Osten (unter $-90^\\circ$) bis Mittag=Süden ($0^\\circ$) liefert die Umkehrfunktion den richtigen Wert, mit falschem Vorzeichen (plus anstatt minus). Dies soll in der Berechnung berücksichtigt werden. Das Erkennen ob der Azimut korrigiert werden soll, erfolgt durch den Stundenwinkel $\\omega$. Ist dieser $>0^\\circ$ so steht dies für den Nachmittag und wenn dieser $<0^\\circ$, dann steht dies für den Vormittag."
   ]
  },
  {
   "cell_type": "markdown",
   "metadata": {},
   "source": [
    "### Hinweis:\n",
    "\n",
    "Da wir mit laufenden Stunden rechnen, ist am zweiten Tag, im Jahr um 12 h nicht $0^\\circ$, sondern $0^\\circ$+$360^\\circ$. Somit können wir keine Fallunterscheidung Vormittag/Nachmittag über $<0^\\circ$ oder $>0^\\circ$ durchführen. Aus diesem Grund wird der Stundenwinkel $\\omega$ auf den Bereich $-180^\\circ$ (=0 h) bis $180^\\circ$ (=24 h) zurückgerechnet, d.h. Stunden innerhalb des Tages und nicht laufende Jahresstunden. Dies wird durch die Modulus Funktion (Rest Funktion) durchgeführt, was einen Bereich von $0^\\circ$ bis $360^\\circ$ ergibt. Durch Verschiebung vorher $+180^\\circ$ und nach Modulus Funktion $-180^\\circ$ erreichen wird unseren gesuchten Bereich von  $-180^\\circ$ bis $180^\\circ$.\n",
    "\n",
    "All dies wird mit nur einer Code-Zeile erreicht!\n",
    "\n",
    "    omega = np.mod(omega + 180, 360)-180 \n",
    "   \n",
    "Wenn dies klar ist, so ist eine Pauser verdient!"
   ]
  },
  {
   "cell_type": "code",
   "execution_count": 9,
   "metadata": {},
   "outputs": [],
   "source": [
    "### importieren von Bibliotheken\n",
    "import matplotlib.pyplot as plt\n",
    "import numpy as np\n",
    "\n",
    "### definiern von Funktionen mit dem lambda-Operator\n",
    "cos  = lambda arg : np.cos(np.deg2rad(arg))\n",
    "sin  = lambda arg : np.sin(np.deg2rad(arg))\n",
    "acos = lambda arg : np.rad2deg(np.arccos(arg))\n",
    "asin = lambda arg : np.rad2deg(np.arcsin(arg))\n",
    "\n",
    "###  Parameterdefinition\n",
    "lg = 9 + 26/60  # [grad] Längengrad\n",
    "bg = 46 + 37/60 # [grad] Breitengrad\n",
    "\n",
    "### Stundenwinkel und Deklination in [grad]\n",
    "lfStd = np.linspace(0,24*365,10000) # [h]\n",
    "dekl  = 23.45*cos(360/(365*24) * (lfStd - 173 * 24))\n",
    "omega = lg + 15 * lfStd - 180  # [grad] Stundenwinkel\n",
    "omega = np.mod(omega + 180, 360)-180 # [grad] im Bereich -180 grad bis 180 grad\n",
    "\n",
    "### Berechnung Sonnenposition\n",
    "h = asin(sin(dekl)*sin(bg) + cos(dekl)*cos(bg)*cos(omega)) #[grad]\n",
    "azi = np.zeros(omega.size) # Initialisierung\n",
    "\n",
    "for i in range(omega.size):\n",
    "    if   omega[i] < 0: # Vormittag\n",
    "        azi[i] = - acos((sin(h[i])*sin(bg)\\\n",
    "                 - sin(dekl[i]))/(cos(h[i])*cos(bg))) # [grad]\n",
    "    else:                 # Nachmittag\n",
    "        azi[i] =   acos((sin(h[i])*sin(bg)\\\n",
    "                 - sin(dekl[i])) /(cos(h[i])*cos(bg))) # [grad]\n",
    "### *** Ende Berechnung Sonnenposition\n",
    "\n",
    "h[h<0] = 0  #  Bereinigung h um Werte <0\n",
    "\n",
    "plt.figure(1, figsize=(5,3))# Grösse des Plots (figsize) in Zoll\n",
    "plt.plot(azi, h,'b',label=\"Sonnenelevation\")\n",
    "plt.xlabel('Azimutwinkel [Grad]')\n",
    "plt.ylabel('Sonnenhoehe [Grad]')\n",
    "plt.savefig('tutorial_1.pdf', format='pdf', bbox_inches = 'tight') "
   ]
  },
  {
   "cell_type": "markdown",
   "metadata": {},
   "source": [
    "Mit \"savefig\" wird das Diagramm als Datei gespeichert. Über die Endung des frei wählbaren Dateinamen wird das Format definiert. Mit pdf wird das Diagramm als Vektorgrafik gespeichert, ansonst mit Pixel. Mit bbox_inches werden die Ränder des Diagramm enger. Wenn die Formel oder der Code in einer Zeile zu lange wird kann man dies auf die nächste Zeile trennen mit backslash \\."
   ]
  },
  {
   "cell_type": "markdown",
   "metadata": {},
   "source": [
    "Nun ist Python auf Vektoroperationen ausgelegt. Schleifen (for..) und Bedingungen (if ...else...) werden in Python zeitaufwendig umgesetzt. Um den Code schneller (Faktor 20) zu machen, soll anstatt Schleifen und Bedingungen über Vektoroperation gerechnet werden. Dies führt zu folgendem Code:"
   ]
  },
  {
   "cell_type": "code",
   "execution_count": 10,
   "metadata": {
    "collapsed": true
   },
   "outputs": [],
   "source": [
    "### Berechnung Sonnenposition  - Speed up\n",
    "h = asin(sin(dekl)*sin(bg) + cos(dekl)*cos(bg)*cos(omega)) #[grad]\n",
    "aziNachmittag =  acos((sin(h)*sin(bg) - sin(dekl)) / cos(h) / cos(bg)) # [grad]\n",
    "aziVormittag  = -acos((sin(h)*sin(bg) - sin(dekl)) / cos(h) / cos(bg)) # [grad]\n",
    "azi=(np.sign(omega)+1)/2*aziNachmittag-(np.sign(omega)-1)/2*aziVormittag; # [grad]\n",
    "### *** Ende Berechnung Sonnenposition - Speed up ende"
   ]
  },
  {
   "cell_type": "markdown",
   "metadata": {},
   "source": [
    "Es zeigt sich auch dass der Code wesentlich kürzer ist, ein Kennzeichen für guten Code. Dieser Schritt ist wichtig für die Zukunft! Nütze wenn immer möglich die vektorielle Rechnung, z.B. sin(x)+cos(x) anstatt eine for-Schleife mit sin(x[i])+cos(x[i]). Diese Art zu denken vereinfacht den Code und schafft neue Möglichkeiten für Analysen, wenn nicht lange auf ein Ergebnis gewartet werden muss."
   ]
  },
  {
   "cell_type": "markdown",
   "metadata": {},
   "source": [
    "## Schritt 1 - Synthetische Messwerte für 1 Tag\n",
    "Im folgenden Beispiel, nehmen wir keine realen Messwerte, sondern \"bauen\" uns selbst die Messwerte über die Sinusfunktion. Zuerst erstellen wir einen Array (Zahlenreihe) für die Zeit. Wir nehmen an, dass die Sonne um 6:00 aufgeht und um 18:00 untergeht. Über Mittag erreicht die Strahlung einen Wert von 650 W/m2. \n"
   ]
  },
  {
   "cell_type": "code",
   "execution_count": 11,
   "metadata": {
    "collapsed": true
   },
   "outputs": [],
   "source": [
    "t = np.linspace(6,18,1000)\n",
    "deltaT = 12/1000"
   ]
  },
  {
   "cell_type": "markdown",
   "metadata": {},
   "source": [
    "Strahlungsarray (Zahlenreihe für die Strahlung in W/m2). Beachte das die Funktion sin() oben mit dem lambda-Operator definiert wurde und in Grad angegeben wird. Dies ist nicht bei der Funktion np.sin() der Fall."
   ]
  },
  {
   "cell_type": "code",
   "execution_count": 12,
   "metadata": {
    "collapsed": true
   },
   "outputs": [],
   "source": [
    "H = 650 * sin((t-6)/(18-6)*180)"
   ]
  },
  {
   "cell_type": "markdown",
   "metadata": {},
   "source": [
    "Überprüfe ob der Zeitarray aus lauter Spaltenwerte (Zeile mit vielen Zahlen) oder aus lauter Zeilenwerte (Spalte mit vielen Zahlen) besteht. Spalte = column. Zeile = row."
   ]
  },
  {
   "cell_type": "code",
   "execution_count": 13,
   "metadata": {},
   "outputs": [
    {
     "data": {
      "text/plain": [
       "(1000,)"
      ]
     },
     "execution_count": 13,
     "metadata": {},
     "output_type": "execute_result"
    }
   ],
   "source": [
    "np.shape(t)"
   ]
  },
  {
   "cell_type": "markdown",
   "metadata": {},
   "source": [
    "Stelle den Strahlungsverlauf als figure dar mit der Linienfarbe grün (g=green)"
   ]
  },
  {
   "cell_type": "code",
   "execution_count": 14,
   "metadata": {
    "collapsed": true
   },
   "outputs": [],
   "source": [
    "plt.figure(2, figsize=(8,4))\n",
    "plt.plot(t,H, 'g')\n",
    "plt.xlabel('Zeit [h]')\n",
    "plt.ylabel('Strahlung [W/m2]')\n",
    "plt.close()"
   ]
  },
  {
   "cell_type": "markdown",
   "metadata": {},
   "source": [
    "Nun können wir die Strahlungsenergie $W_H$ für diesen einen Tag berechnen:"
   ]
  },
  {
   "cell_type": "code",
   "execution_count": 15,
   "metadata": {},
   "outputs": [
    {
     "name": "stdout",
     "output_type": "stream",
     "text": [
      "Strahlungsenergie [kWh/Tag]: 4.96066450208\n"
     ]
    }
   ],
   "source": [
    "A = 1 # Fläche 1 m2\n",
    "wH = np.sum(H)*deltaT*A/1000\n",
    "print('Strahlungsenergie [kWh/Tag]: ' + str(wH))"
   ]
  },
  {
   "cell_type": "markdown",
   "metadata": {},
   "source": [
    "Nun haben wir folgende Punkte gelernt:\n",
    "1. Erstellen eines Arrays.\n",
    "2. Darstellen von Arrays, inklusiv Beschriftung.\n",
    "3. Berechnen eines Flächenintegrals aus diskreten Werten, d.h. Aufsummieren von Werten."
   ]
  },
  {
   "cell_type": "markdown",
   "metadata": {},
   "source": [
    "## Schritt 2 - Synthetische Messwerte für 7 Tag\n",
    "Nun wollen wir die Strahlungsenergie von 7 Tagen berechnen. Wir ändern den Zeit-Array. Wir beginnen mit der Stunde 0 und Enden mit der Stunde 7 x 24. Die Schrittweite können wir beibehalten.\n",
    "Wenn wir den Zeit-Array geändert haben und eine Plot-Figure erstellen, sehen wir den sinusförmigen Strahlungsverlauf. Allerdings mit negativer Halbwelle, d.h. negative Strahlungswerten, was nicht richtig ist. Die Annäherung der Strahlung durch die Sinusfunktion macht Sinn für den Tag (6:00 bis 18:00) aber macht keinen Sinn für die Nacht (18:00 bis 6:00). Wir korrigieren dies indem wir alle Strahlungswerte, welche negativ sind, auf 0 setzten."
   ]
  },
  {
   "cell_type": "code",
   "execution_count": 16,
   "metadata": {
    "collapsed": true
   },
   "outputs": [],
   "source": [
    "H[H<0] = 0"
   ]
  },
  {
   "cell_type": "markdown",
   "metadata": {},
   "source": [
    "Der Ausdruck \"H<0\" generiert ein Selektor-Array der Länge von H, bei dem die Positionen mit \"1\" gekennzeichnet sind, bei welchen der Wert < 0 ist, der Rest ist mit \"0\" gekennzeichnet. Der Ausdruck H[Selektor-Array] = 0 weisst allen Positionen = 1 eine 0 zu. \n",
    "\n",
    "Denkbar ist auch \"M[N<1] = 2\". M und N müssen gleich lange Arrays sein. Im Array M werden alle Stellen auf 2 gesetzt, bei denen der Wert im Array N < 1 ist. Wenn nun diese Zeile im Skript-File ergänzt wird so kann ein korrekter Kurvenverlauf (nur positive Werte) dargestellt werden. Berechne die Strahlungsenergie für die 7 Tage."
   ]
  },
  {
   "cell_type": "markdown",
   "metadata": {},
   "source": [
    "# Tutorial 2: Berechnung Strahlungsenergie von mehreren Tagen mit Messdaten\n",
    "Nun verwenden wir nicht \"künstliche\" Strahlungswerte (generiert durch die Sinusfunktion), sondern reale Messwert. Hierzu benötigen wir eine Datendatei. Wir erstellen wieder einen Plot mit dem Strahlungsverlauf über 7 Tage. Nun wollen wir nicht nur die Strahlung (=Globalstrahlung) auf die 1m2-Fläche darstellen, sondern auch die Strahlungskomponenten. Die Globalstrahlung \"hGlob\" setzt sich aus Diffusstrahlung \"hDiff\" und Direktstrahlung \"hDir\" zusammen. Zu den Strahlungswerten in den Messdaten ist auch der Messzeitpunkt enthalten, allerdings wird dieser als Textstring eingelesen. \n",
    "\n",
    "Verwende für dieses Tutorial ein neues py-File."
   ]
  },
  {
   "cell_type": "markdown",
   "metadata": {},
   "source": [
    "Zuerst importieren wir die \"datetime\"-Bibliothek, welche wir für Berechnungen im Zeitformat benötigen. Es gibt viele Möglichkeiten Daten zu importieren, vermutlich auch elegantere. Wir verwenden zum Import der Excel-Daten \"read_excel\" aus der pandas-Bibliothek. Ansonst benötigen wir die pandas-Bibliothek nicht, ist aber ebenfalls ein mächtes Numeric-Paket, so wie numpy. "
   ]
  },
  {
   "cell_type": "code",
   "execution_count": 17,
   "metadata": {
    "collapsed": true
   },
   "outputs": [],
   "source": [
    "import datetime as dt\n",
    "import pandas # benötigen wir nur für den Exelimport"
   ]
  },
  {
   "cell_type": "markdown",
   "metadata": {},
   "source": [
    "Nun laden wir die Daten aus dem Excelfile. Wir geben auch die zeitliche Auflösung der Daten an (brauchen wir später). Die Daten stammen von 2016, welches ein Schaltjahr war."
   ]
  },
  {
   "cell_type": "code",
   "execution_count": 18,
   "metadata": {
    "collapsed": true
   },
   "outputs": [],
   "source": [
    "ed = pandas.read_excel('DataExport15min.xls') # ed für ExcelData\n",
    "deltaT = 0.25 # [h]"
   ]
  },
  {
   "cell_type": "markdown",
   "metadata": {},
   "source": [
    "In \"ed\" sind nun die Messdaten und auch die Spaltennamen. Diese benötigen wir um auf die Daten zugreifen zu können. Wir sehen uns die Spaltennamen (column names) an:"
   ]
  },
  {
   "cell_type": "code",
   "execution_count": 19,
   "metadata": {},
   "outputs": [
    {
     "name": "stdout",
     "output_type": "stream",
     "text": [
      "Index(['Time_UTC', 'hGlo [W/m2]', 'hDif [W/m2]', 'Tamb [°C]', 'Pload [W]',\n",
      "       'Zapfung [l/15min]', 'Wind [m/s2]', 'Niederschlag [mm/h]',\n",
      "       ' hGloCOSMO [W/m2]', 'TambCOSMO [°C]', 'NiederCOSMO [mm/h]'],\n",
      "      dtype='object')\n"
     ]
    }
   ],
   "source": [
    "print(ed.columns)"
   ]
  },
  {
   "cell_type": "markdown",
   "metadata": {},
   "source": [
    "Dann nehmen wir die Daten (values) und erzeugen Array mit welchen wir später rechnen. Da es sich um Messwerte handelt, sind auch Messunsicherheiten vorhanden. Negative Strahlungswerte setzen wir 0."
   ]
  },
  {
   "cell_type": "code",
   "execution_count": 20,
   "metadata": {
    "collapsed": true
   },
   "outputs": [],
   "source": [
    "tutcIn = ed['Time_UTC'].values\n",
    "hGlo = ed['hGlo [W/m2]'].values  # Achtung Spaltennamen vollstänig angeben. \n",
    "hDif = ed['hDif [W/m2]'].values\n",
    "tAmb = ed['Tamb [°C]'].values\n",
    "pLoad = ed['Pload [W]'].values  # Verbrauchsprofil\n",
    "zapf = ed['Zapfung [l/15min]'].values # Profil für Warmwasserbezug\n",
    "hDir = hGlo - hDif"
   ]
  },
  {
   "cell_type": "markdown",
   "metadata": {},
   "source": [
    "Nun wurde die Zeit als datetime64 importiert, ein Format der pandas-Bibliothek. Wir möchte aber mit \"datetime\" rechnen, d.h. wir wandeln zuerst das Format in Absolutwerte in Nanosekunden, beginnend bei 1.1.1970 00:00:00 und dann in das gewünschte \"datetime\" Format."
   ]
  },
  {
   "cell_type": "code",
   "execution_count": 21,
   "metadata": {},
   "outputs": [
    {
     "name": "stdout",
     "output_type": "stream",
     "text": [
      "Pandas-Format   : 2016-01-15T00:00:00.000000000\n",
      "Umwandlung in ns: 1452816000000000000\n",
      "Datetime-Format : 2016-01-15 00:00:00\n"
     ]
    }
   ],
   "source": [
    "print('Pandas-Format   : ' + str(tutcIn[0]))\n",
    "dt64 = tutcIn.astype(dt.datetime) # Als Zahlenwert in Nanosekunden\n",
    "print('Umwandlung in ns: ' + str(dt64[0]))\n",
    "tutc  = np.asarray([dt.datetime.utcfromtimestamp(t*1e-9) for t in dt64])\n",
    "print('Datetime-Format : '+ str(tutc[0]))"
   ]
  },
  {
   "cell_type": "markdown",
   "metadata": {},
   "source": [
    "So haben wir \"tutc\" als einen Array in datetime-Format. Zusätzlich erzeugen wir nun einen Array mit laufenden Stunden, beginnend mit Stunde 0 bei Jahresamfang. Diesen benötigen wir aber erst später zur Sonnenstandsberechung."
   ]
  },
  {
   "cell_type": "code",
   "execution_count": 22,
   "metadata": {
    "collapsed": true
   },
   "outputs": [],
   "source": [
    "lfStd = np.zeros(tutc.size)\n",
    "for t in range(tutc.size):\n",
    "    # berechnet laufender Tag im Jahr\n",
    "    noDay = (tutc[t] - dt.datetime(tutc[0].year, 1, 1, 0)).days \n",
    "    # [h] berechnet laufende Stunde im Tag in UTC!\n",
    "    noHou = tutc[t].hour + (tutc[t].minute)/60.0 + (tutc[t].second)/3600.0 \n",
    "    lfStd[t] = noDay*24 + noHou"
   ]
  },
  {
   "cell_type": "markdown",
   "metadata": {},
   "source": [
    "## Schritt 1\n",
    "Es soll die Globalstrahlung in grün, Direktstrahlung in rot und Diffusstrahlung in blau dargestellt werden. Weiter soll in der Plot-Figure eine Legende mit den Kurvennamen dargestellt werden. Als Ausschnitt wollen wir die ersten 7 Tage betrachten, d.h. in der Plotfunktion grenzen wir den Array ein durch tutc[a:e], wobei a für den Anfangsindex und e für den Endindex steht."
   ]
  },
  {
   "cell_type": "markdown",
   "metadata": {},
   "source": [
    "## Schritt 2\n",
    "Wenn wir den ersten Tag im Plot ansehen, so fällt auf, dass negative Strahlungswerte vorkommen. Dies entspricht den Messergebnissen aber nicht der Realität. Deshalb sollen die Strahlungsdaten bereinigt werden.\n",
    " "
   ]
  },
  {
   "cell_type": "code",
   "execution_count": 23,
   "metadata": {
    "collapsed": true
   },
   "outputs": [],
   "source": [
    "hDif[hDif<0] = 0\n",
    "hGlo[hGlo<0] = 0\n",
    "hDir[hDir<0] = 0\n",
    "\n",
    "a=int(0)           # Anfangstag\n",
    "e=int(7*24/deltaT) # Endtag\n",
    "\n",
    "plt.figure(3, figsize=(8,4))# Grösse des Plots (figsize) in Zoll\n",
    "plt.plot_date(tutc[a:e],hGlo[a:e],'g', label ='Globalstrahlung')\n",
    "plt.plot_date(tutc[a:e],hDir[a:e],'r', label ='Direktstrahlung')\n",
    "plt.plot_date(tutc[a:e],hDif[a:e],'b', label ='Diffusstrahlung')\n",
    "plt.xlabel('Zeit [h]');\n",
    "plt.ylabel('Strahlung [W/m2]');\n",
    "leg = plt.legend(loc=\"upper left\")\n",
    "plt.close()"
   ]
  },
  {
   "cell_type": "markdown",
   "metadata": {},
   "source": [
    "Nun haben wir folgende Punkte gelernt:\n",
    "1. Bereinigen eines Array (z.B. Nullsetzten bei negativen Werten).\n",
    "2. Importieren von Messdaten.\n",
    "3. Berechnen der Strahlungskomponente hDir aus hGlob und hDiff.\n",
    "4. Darstellen der Kurven in einem Plot-Figure inklusiv Legende.\n"
   ]
  },
  {
   "cell_type": "markdown",
   "metadata": {},
   "source": [
    "# Tutorial 3: Strahlung auf eine geneigte Fläche\n",
    "Bisher betrachteten wir die Strahlung auf die Horizontale. Horizontal weil die Messgeräte horizontal aufgestellt sind. Über die Aufteilung der Globalstrahlung in Diffus- und Direktstrahlung kann die Strahlung auf eine beliebige Fläche berechnet werden."
   ]
  },
  {
   "cell_type": "markdown",
   "metadata": {},
   "source": [
    "## Schritt 1\n",
    "Hierfür wird das Dreikomponentenmodell verwendet:"
   ]
  },
  {
   "cell_type": "markdown",
   "metadata": {},
   "source": [
    "$$H_\\alpha = H_{Dir\\,\\alpha} + H_{Dif\\,\\alpha} + H_{Alb\\,\\alpha}$$"
   ]
  },
  {
   "cell_type": "markdown",
   "metadata": {},
   "source": [
    "Bei der Berechnung des Direktstrahlungsanteils ist eine Division von sin(h) notwendig. Wenn h = 0 ist, führt dies zu Problemen in der Berechnung, weshalb die Werte auf eine Sonnenhöhe von $5^\\circ$ limitiert werden. Implementierung sieht wie folgt aus, anstatt sin(h) wird np.maximum(sin(h),sin(5)) verwendet."
   ]
  },
  {
   "cell_type": "markdown",
   "metadata": {},
   "source": [
    "Bei der Python-Implementierung ist darauf zu achten das \"np.maximum()\" verwendet wird, anstatt \"max\"! Diese Funktionen sind nicht identisch. Überprüfe den Unterschied. np.maximum ermittelt elementweise das Maximum bei zwei Array's, funktioniert aber auch bei Array mit Skalar:"
   ]
  },
  {
   "cell_type": "code",
   "execution_count": 24,
   "metadata": {},
   "outputs": [
    {
     "name": "stdout",
     "output_type": "stream",
     "text": [
      "[3 3 3 4]\n"
     ]
    }
   ],
   "source": [
    "x = np.array((1, 2, 3, 4))\n",
    "print(str(np.maximum(x, 3)))"
   ]
  },
  {
   "cell_type": "markdown",
   "metadata": {},
   "source": [
    "Für die weiteren Formeln zur Berechnung der Strahlung auf die geneigte Fläche siehe \"Photovoltaik für Ingenieure\" Kapitel 3. Es werden folgende Variablennamen verwendet:\n",
    "\n",
    "$H_{Dir \\, 0}$ =\thDir\n",
    "\n",
    "$H_{Dif \\, 0}$ =\thDif\n",
    "\n",
    "$G$ = hGlob\n",
    "\n",
    "$\\alpha$ =\tneig\n",
    "\n",
    "$\\Psi$ =\tazi\n",
    "\n",
    "$\\Psi_M$ =\taziFl\n",
    "\n",
    "$\\Theta$ =\ttheta"
   ]
  },
  {
   "cell_type": "markdown",
   "metadata": {},
   "source": [
    "Zu beachten ist, dass theta $\\Theta$  $>90^\\circ$ sein kann, d.h. die Strahlung ist hinter dem Modul. Diese Werte sollen korrigiert werden. Eine Möglichkeit ist\n",
    "\n",
    "    theta[theta>90] = 90\n",
    "    \n",
    "oder bei cosTheta durch\n",
    "\n",
    "    cosTheta[cosTheta<0] = 0\n",
    "    "
   ]
  },
  {
   "cell_type": "markdown",
   "metadata": {},
   "source": [
    "## Schritt 2\n",
    "Ziel ist es die optimale Neigung für Module zu finden: \n",
    "\n",
    "***Aufgabe: *** Erstelle ein 2D-Diagramm mit Jahresstrahlungsertrag (y-Achse) in Abhängigkeit der Modulneigung (x-Achse). Vergleich die Ergebnisse mit PVGIS für den berechneten Standort Buchs. Beachte das die Jahresstrahlungsenergie in kWh/m2 gesucht ist. In PVGIS ist dies \"H\" nicht \"E\". \n",
    "\n",
    "Vorgehen: Es wird der Jahresertrag für unterschiedliche Flächenneigung berechnet (von $0^\\circ$ bis $90^\\circ$). Hierfür wird eine for-Schleife, um den Berechnungscode gelegt. Innerhalb der for-Schleife wird die Leistung übers gesamte Jahr berechnet und durch Aufsummieren die Jahresenergie bestimmt. Weiter wird die Summe durch 1000 geteilt um kWh anstatt Wh zu erhalten. Stelle das Diagramm dar mit Modulneigungswinkel als x-Achse und Jahresertrag als y-Achse."
   ]
  },
  {
   "cell_type": "markdown",
   "metadata": {},
   "source": [
    "## Schritt 3\n",
    "Variieren wir nicht einen Parameter, wie oben die Neigung, sondern einen zweiten Parameter, den Azimut, so lässt sich das Ergebnis als 3D-Plot darstellen oder als Contour-Plot (siehe Tutorial IntroPython)"
   ]
  },
  {
   "cell_type": "markdown",
   "metadata": {},
   "source": [
    "Für die Berechnung der Strahlungsenergie verwende ein neues py-File und importiere die Messdaten, somit ist sichergestellt das nicht alte Variablen verwendet werden wie z.B. deltaT oder tutc. \n",
    "\n",
    "Mit den Messdaten wird auch ein Array mit den Zeitwerten importiert und berechnet. Basierend auf diesem ist auch die Deklination, Stundenwinkel (omega), Sonnenhöhe und Azimut zu berechnen.\n",
    "\n",
    "Zu beachten ist bei der Berechnung der Direktstrahlungskomponente das nicht durch Null dividiert wird. Dies ist der Fall bei:\n",
    "\n",
    "    hDirA = hDir / sin(h) * cosTheta\n",
    "\n",
    "Gelöst wird dies in dem die minimale Höhe vorgegeben wird, welche >0 ist:\n",
    "\n",
    "    hDirA = hDir / (np.maximum(sin(h), sin(5)) * cosTheta"
   ]
  },
  {
   "cell_type": "markdown",
   "metadata": {},
   "source": [
    "# Tutorial 4: Simulation Speicher\n",
    "Die Simulation einer Batterie ist vorallem interessant für die Berechung von Eigenverbrauchsgrad $R_{EV}$ und Autarkiegrad $R_A$. \n",
    "\n",
    "$R_{EV} = \\frac{W_{Pro}-W_{Ein}}{W_{Pro}} = \\frac{W_{Ver}-W_{Bez}}{W_{Pro}}$\n",
    "\n",
    "$R_A = \\frac{W_{Pro}-W_{Ein}}{W_{Ver}} = \\frac{W_{Ver}-W_{Bez}}{W_{Ver}}$\n",
    "\n",
    "\n",
    "$W_{Pro}$  Jahresproduktion PV (Energie in kWh).\n",
    "\n",
    "$W_{Ver}$  Jahresverbrauch (Energie in kWh).\n",
    "\n",
    "$W_{Ein}$  Jahreseinspeisung ins Netz (Energie in kWh).\n",
    "\n",
    "$W_{Bez}$  Jahresbezug aus dem Netz (Energie in kWh).\n",
    "\n",
    "Als Ausgangdaten, verwenden wir das bereits geladene Excel-File. Darin ist auch ein Lastprofil dargestellt. Das Lastprofil ist syntetisch erstellt aus folgenden Verbrauchern."
   ]
  },
  {
   "cell_type": "markdown",
   "metadata": {},
   "source": [
    "![Lastprofil](loadProfile.png)"
   ]
  },
  {
   "cell_type": "markdown",
   "metadata": {},
   "source": [
    "Bei der Betrachtung von Produktion oder Verbrauch konnten die Zeitreihen als Array vektoriell berechnet werden, was die Simulation sehr effizient machte. Bei der Berechnung des Ladezustands einer Batterie ist der vorgängige Zustand relevant, d.h. es kann nicht mehr vektoriell gerechnet werden, sondern über eine Schleife. \n",
    "\n",
    "Bei der Berechnung wird jeder einzelne Zeitschritt berechnet:"
   ]
  },
  {
   "cell_type": "markdown",
   "metadata": {},
   "source": [
    "#### 1. Berechnung Leistungsbedarf  (Verbrauch abzüglich Produktion)\n",
    "\n",
    "Prüfen ob Leistungsbedarf durch die Batterie zur Verfügung gestellt werden kann:\n",
    "\n",
    "a.) Wenn ja wird die Batterie entladen\n",
    "        \n",
    "b.) Wenn nicht wird die Leistung aus dem Netz bezogen, abzüglich dem Rest in der Batterie\n",
    "        \n",
    "#### 2. Berechnung Überschuss (Produktion abzüglich Verbrauch)\n",
    "\n",
    "Prüfen ob Batterie nicht voll ist,\n",
    "\n",
    "a.)\tWenn nicht kann die Batterie geladen werden bis sie voll ist, der Rest wird ins Netz rückgespeist\n",
    "    \n",
    "b.)\tWenn die Batterie voll ist, wird der Überschuss ins Netz rückgespeist.\n",
    "\n",
    "\n",
    "   \n",
    "\n",
    "Mit diesem Vorgehen wird der Netzbezugenergie (wBez) und die Netzeinspeisung (wEin) übers Jahr kumuliert."
   ]
  },
  {
   "cell_type": "code",
   "execution_count": 25,
   "metadata": {},
   "outputs": [
    {
     "name": "stdout",
     "output_type": "stream",
     "text": [
      "Eigenverbrauchsgrad ist 76.0287615396 %\n",
      "Autarkiegrad ist 33.9737193068 %\n"
     ]
    }
   ],
   "source": [
    "### Parameterdefinition\n",
    "PR          = 0.75 #[1]\n",
    "pPVstc      = 2  #[kW]\n",
    "batCap      = 2  #[kWh]\n",
    "\n",
    "pPV      = hGlo * PR  * pPVstc # [W] PV-Produktionsleistung\n",
    "pVer     = pLoad               # [W] Verbrauchsprofil\n",
    "\n",
    "### Batterie Berechnung\n",
    "wBez  = 0    # [kWh] Energie Netzbezug\n",
    "wEin  = 0    # [kWh] Energie Netzeinspeisung   \n",
    "wBat  = 0    # [kWh] Energie Batteriestand. Annahme das Batterie zu Beginn leer ist\n",
    "for p in range(pPV.size):\n",
    "    pBedarf = np.maximum(pVer[p]-pPV[p], 0)  # [W] \n",
    "    if wBat >= pBedarf*deltaT/1000:\n",
    "        wBat = wBat - pBedarf*deltaT/1000    # [kWh]\n",
    "    else:\n",
    "        wBez = wBez + pBedarf*deltaT/1000 - wBat   # [kWh]\n",
    "        wBat  = 0\n",
    "    pUebersch = np.maximum(pPV[p]-pVer[p], 0) # [W]      \n",
    "    if wBat <= batCap:\n",
    "        eNichtladbar = np.maximum(pUebersch*deltaT/1000 - (batCap-wBat),0) #[kWh]\n",
    "        wBat = wBat + pUebersch*deltaT/1000 - eNichtladbar                 #[kWh] \n",
    "        wEin = wEin + eNichtladbar\n",
    "    else:\n",
    "        wEin = wEin + pUebersch*deltaT/1000   # [kWh]\n",
    "\n",
    "wVer = np.sum(pVer)*deltaT/1000 # [kWh] Verbrauch Jahresenergie\n",
    "wPro = np.sum(pPV)*deltaT/1000  # [kWh] PV-Produktion Jahresenergie\n",
    "rEV = (wPro-wEin)/wPro *100 # [%] Eigenverbrauchsquote\n",
    "rA = (wVer-wBez)/wVer *100 # [%] Autarkiegrad\n",
    "print('Eigenverbrauchsgrad ist '+str(rEV)+' %')\n",
    "print('Autarkiegrad ist '+str(rA)+' %')"
   ]
  },
  {
   "cell_type": "markdown",
   "metadata": {},
   "source": [
    "Mit dem obigen Code-Beispiel haben wir die Jahresenergie berechnet. Möchten wir einen zeitlichen Verlauf des Ladens und Entladens darstellen an drei Tagen im Jahr, so wird der Code erweitert, markiert mit (\\***):"
   ]
  },
  {
   "cell_type": "code",
   "execution_count": 27,
   "metadata": {},
   "outputs": [
    {
     "data": {
      "image/png": "[encoded data removed]",
      "text/plain": [
       "<matplotlib.figure.Figure at 0x21d604367f0>"
      ]
     },
     "metadata": {},
     "output_type": "display_data"
    }
   ],
   "source": [
    "### es wird nur ein Ausschnitt betrachtet, nicht das gesamte Jahr\n",
    "a  = int(105*24/deltaT)\n",
    "e  = int(a+3*24/deltaT)\n",
    "pPV      = hGlo[a:e] * PR  * pPVstc     # [W]\n",
    "pVer     = pLoad[a:e]\n",
    "tutcTeil = tutc[a:e]\n",
    "\n",
    "# Initialisierung Array für Darstellung (***)\n",
    "batStand      = np.zeros(tutcTeil.size) # Array für Batteriestand\n",
    "netzbezug     = np.zeros(tutcTeil.size) # Array für Netzleistungsbezug\n",
    "einspeisung   = np.zeros(tutcTeil.size) # Array für Einspeiseleistung\n",
    "\n",
    "### Batterie Berechnung\n",
    "wBez  = 0    # [kWh] Energie Netzbezug\n",
    "wEin  = 0    # [kWh] Energie Netzeinspeisung   \n",
    "wBat  = 0    # [kWh] Energie Batteriestand. Annahme das Batterie zu Beginn leer ist\n",
    "for p in range(pPV.size):\n",
    "    pBedarf = np.maximum(pVer[p]-pPV[p], 0)  # [W] \n",
    "    if wBat >= pBedarf*deltaT/1000:\n",
    "        wBat = wBat - pBedarf*deltaT/1000    # [kWh]\n",
    "        pBezug = 0                           # [kW] (***)\n",
    "    else:\n",
    "        wBez = wBez + pBedarf*deltaT/1000 - wBat   # [kWh]\n",
    "        wBat  = 0\n",
    "        pBezug = pBedarf - wBat*1000/deltaT   # [W] (***)\n",
    "    pUebersch = np.maximum(pPV[p]-pVer[p], 0) # [W]      \n",
    "    if wBat <= batCap:\n",
    "        eNichtladbar = np.maximum(pUebersch*deltaT/1000 - (batCap-wBat),0) #[kWh]\n",
    "        wBat = wBat + pUebersch*deltaT/1000 - eNichtladbar                 #[kWh] \n",
    "        wEin = wEin + eNichtladbar\n",
    "        pEinspeisung = eNichtladbar/deltaT*1000  # [W] (***)\n",
    "    else:\n",
    "        wEin = wEin + pUebersch*deltaT/1000   # [kWh]\n",
    "        pEinspeisung = pUebersch              # [W] (***)\n",
    "    \n",
    "    # Berechnete Werte ans Array übergeben (***)\n",
    "    batStand[p]  = wBat*1000\n",
    "    netzbezug[p] = pBezug        # [W]\n",
    "    einspeisung[p] = pEinspeisung   # [W]\n",
    " \n",
    "### Darstellung (***)\n",
    "fig = plt.figure(6, figsize=(10,4))\n",
    "plt.plot_date(tutcTeil, pVer,'k', label='Verbrauch [W]')\n",
    "plt.plot_date(tutcTeil, pPV,'g', label='Produktion [W]')\n",
    "plt.plot_date(tutcTeil, batStand,'b', label='Batteriestand [Wh]')\n",
    "plt.plot_date(tutcTeil, netzbezug,'r:', label='Netzbezug [W]')\n",
    "plt.plot_date(tutcTeil, einspeisung,'g:', label='Rückspeisung [W]')\n",
    "plt.legend(loc='best')\n",
    "plt.xlabel('laufende Stunden [h]')\n",
    "plt.ylabel('Leistung [W]/Batteriestand [Wh]')\n",
    "plt.show()"
   ]
  },
  {
   "cell_type": "markdown",
   "metadata": {},
   "source": [
    "### Thermischer Speicher\n",
    "Mit der selben Logik kann ein thermischer Speicher (Boiler) berechnet werden. Es wird von einer vollständigen Durchmischung im Speicher ausgegangen, keine Schichtung. D.h. der Energieinhalt berechnet sich über die Speichertemperatur tsp, Kaltwassertemperatur tkw, der Dichte $\\rho$ und spezifischer Wärmekapazität von Wasser cp = 4.182 kJ/(kg K):\n",
    "\n",
    "$W = vol \\cdot \\rho \\cdot cp \\cdot (tsp - tkw)$\n",
    "\n",
    "Der Speicher hat folgendes Steuerverhalten: bei einer minimalen Speichertemperatur von tMin = 40 °C, wird der Heizstab über das Netz versorgt, sodass ausreichend Warmwasser erzeugt wird. Ist die Nachladung über das Netz aktiviert so bleibt diese aktiv bis der Speicher eine Temperatur von tMaxNetz = 45 °C hat (Hysteresis). Wird über PV geladen so ist die Ausschaltschwelle höher bei tMax     = 85 °C. Es kann so mehr Energie eingelagert werden. Zu berücksichtigen sind Speicherverluste von 23 W. "
   ]
  },
  {
   "cell_type": "code",
   "execution_count": 28,
   "metadata": {
    "collapsed": true
   },
   "outputs": [],
   "source": [
    "### Thermische Speicher Berechnung\n",
    "vol = 300 # [liter] Speicherinhalt\n",
    "tkw      = 12 # [°C] Kaltwassertemperatur\n",
    "tMin     = 40 # [°C] min. Speichertemp. Heizung ein\n",
    "tMax     = 85 # [°C] max. Speichertemp. bei PV-Ladung\n",
    "tMaxNetz = 45 # [°C] max. Speichertemp. bei Netz-Ladung\n",
    "thermalLosses = 23 # [W] Speicherverluste \n",
    "\n",
    "tSp  = 45 # [°C] Sim.Starttemperatur Speicher       \n",
    "wNetz = 0 # [kWh] Energie Netzbezug\n",
    "netzLaden = False # Flag welches Netzladung anzeigt\n",
    "tSpArray = np.zeros(zapf.size)   # [°C] Array für Speichertemperatur\n",
    "pThermArray = np.zeros(zapf.size) # [W] Array Leistung Heizstab\n",
    "pzapfArray = np.zeros(zapf.size) # [W] Array Zapf-Leistung     \n",
    "\n",
    "for p in range(pPV.size):\n",
    "    if tSp < tMax:\n",
    "        pTherm = pPV[p] # [W]\n",
    "    else:\n",
    "        pTherm = 0 # [W]\n",
    "\n",
    "    if tSp > tMaxNetz:\n",
    "        netzLaden = False\n",
    "\n",
    "    if tSp < tMin:\n",
    "        netzLaden = True\n",
    "\n",
    "    if netzLaden == True:\n",
    "        wNetz = wNetz + pPVstc*deltaT # [kWh]\n",
    "        pTherm = pPVstc*1000 + pTherm # [W]\n",
    "\n",
    "    wSp   = vol * 4.182/3.6 * (tSp-tkw) # [Wh] Energieinhalt Speicher vorher\n",
    "    pzapf = zapf[p]/deltaT * 4.182/3.6 * (tSp-tkw) # [W_therm] gezapfte Leistung\n",
    "    wSp   = wSp + (pTherm - pzapf - thermalLosses)*deltaT  # [Wh] Energieinhalt Speicher nachher\n",
    "    tSp = wSp/(vol*4.182/3.6) + tkw # [°C]  neue Speichertemperatur\n",
    "    tSpArray[p] = tSp # [°C]\n",
    "    pThermArray[p] = pTherm # [W]\n",
    "    pzapfArray[p] = pzapf # [W]"
   ]
  },
  {
   "cell_type": "markdown",
   "metadata": {},
   "source": [
    "Dieses Tutorial wurde mit Jupyter Notebook erstellt, welches ebenfalls in Anaconda-Paket enthalten ist. Markus Markstaler."
   ]
  },
  {
   "cell_type": "code",
   "execution_count": null,
   "metadata": {
    "collapsed": true
   },
   "outputs": [],
   "source": []
  },
  {
   "cell_type": "code",
   "execution_count": null,
   "metadata": {
    "collapsed": true
   },
   "outputs": [],
   "source": []
  }
 ],
 "metadata": {
  "kernelspec": {
   "display_name": "Python 3",
   "language": "python",
   "name": "python3"
  },
  "language_info": {
   "codemirror_mode": {
    "name": "ipython",
    "version": 3
   },
   "file_extension": ".py",
   "mimetype": "text/x-python",
   "name": "python",
   "nbconvert_exporter": "python",
   "pygments_lexer": "ipython3",
   "version": "3.6.1"
  }
 },
 "nbformat": 4,
 "nbformat_minor": 2
}
